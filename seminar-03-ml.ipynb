{
  "nbformat": 4,
  "nbformat_minor": 0,
  "metadata": {
    "_change_revision": 36,
    "_is_fork": false,
    "kernelspec": {
      "display_name": "Python 3",
      "language": "python",
      "name": "python3"
    },
    "language_info": {
      "codemirror_mode": {
        "name": "ipython",
        "version": 3
      },
      "file_extension": ".py",
      "mimetype": "text/x-python",
      "name": "python",
      "nbconvert_exporter": "python",
      "pygments_lexer": "ipython3",
      "version": "3.6.5"
    },
    "colab": {
      "name": "Seminar_3.ipynb",
      "provenance": [],
      "include_colab_link": true
    }
  },
  "cells": [
    {
      "cell_type": "markdown",
      "metadata": {
        "id": "view-in-github",
        "colab_type": "text"
      },
      "source": [
        "<a href=\"https://colab.research.google.com/github/IlyaTrofimov/ML2020-Skoltech/blob/master/seminar-03-ml.ipynb\" target=\"_parent\"><img src=\"https://colab.research.google.com/assets/colab-badge.svg\" alt=\"Open In Colab\"/></a>"
      ]
    },
    {
      "cell_type": "markdown",
      "metadata": {
        "id": "A7TSOzPKRgtT",
        "colab_type": "text"
      },
      "source": [
        "# Measure quality of a classification model\n",
        "\n",
        "This notebook explains how to measure quality of a classification machine learning model.\n",
        "We provide definitions for various quality measures and try to find out if they are suitable or not for a particular machine learning classification problem.\n",
        "\n",
        "The data is a subsample from the kaggle comptetion \"Give me some credit\"\n",
        "https://www.kaggle.com/c/GiveMeSomeCredit#description"
      ]
    },
    {
      "cell_type": "code",
      "metadata": {
        "_cell_guid": "cfdaacbc-23a3-423d-8d4d-120939ac7383",
        "id": "h72h_c_GRgtW",
        "colab_type": "code",
        "colab": {}
      },
      "source": [
        "# Imports\n",
        "\n",
        "# data processing tools: pandas and numpy\n",
        "import numpy as np\n",
        "import pandas as pd\n",
        "\n",
        "# visualization tools: matplotlib, seaborn\n",
        "import matplotlib.pyplot as plt\n",
        "import seaborn as sns\n",
        "sns.set_style('whitegrid')\n",
        "%matplotlib inline\n",
        "\n",
        "# machine learning tools: various methods from scikit-learn\n",
        "from sklearn.tree import DecisionTreeClassifier\n",
        "base_classifier = DecisionTreeClassifier()\n",
        "\n",
        "from sklearn.neighbors import KNeighborsClassifier\n",
        "\n",
        "from sklearn.metrics import confusion_matrix, roc_curve, precision_recall_curve, auc\n",
        "from sklearn.metrics import f1_score, accuracy_score, average_precision_score"
      ],
      "execution_count": 0,
      "outputs": []
    },
    {
      "cell_type": "markdown",
      "metadata": {
        "id": "q6JGwTssRgtc",
        "colab_type": "text"
      },
      "source": [
        "# Load data"
      ]
    },
    {
      "cell_type": "code",
      "metadata": {
        "id": "K7WqiLdih2BU",
        "colab_type": "code",
        "colab": {
          "base_uri": "https://localhost:8080/",
          "height": 119
        },
        "outputId": "06b2d31d-09a2-4e19-d862-3c46429404fd"
      },
      "source": [
        "!git clone https://github.com/IlyaTrofimov/ML2020-Skoltech.git"
      ],
      "execution_count": 3,
      "outputs": [
        {
          "output_type": "stream",
          "text": [
            "Cloning into 'ML2020-Skoltech'...\n",
            "remote: Enumerating objects: 58, done.\u001b[K\n",
            "remote: Counting objects: 100% (58/58), done.\u001b[K\n",
            "remote: Compressing objects: 100% (49/49), done.\u001b[K\n",
            "remote: Total 58 (delta 18), reused 18 (delta 4), pack-reused 0\u001b[K\n",
            "Unpacking objects: 100% (58/58), done.\n"
          ],
          "name": "stdout"
        }
      ]
    },
    {
      "cell_type": "code",
      "metadata": {
        "id": "HcYkNP5oh6oQ",
        "colab_type": "code",
        "colab": {
          "base_uri": "https://localhost:8080/",
          "height": 34
        },
        "outputId": "84c89445-0f8d-454e-ea80-e032ab1ea77d"
      },
      "source": [
        "!ls ML2020-Skoltech/credit"
      ],
      "execution_count": 5,
      "outputs": [
        {
          "output_type": "stream",
          "text": [
            "cs-test.csv  cs-training.csv\n"
          ],
          "name": "stdout"
        }
      ]
    },
    {
      "cell_type": "code",
      "metadata": {
        "_cell_guid": "3ab4c525-a5cb-4183-9468-c1dd005c4c78",
        "id": "oCQ791asRgte",
        "colab_type": "code",
        "colab": {}
      },
      "source": [
        "# load the data\n",
        "training_data = pd.read_csv('ML2020-Skoltech/credit/cs-training.csv')\n",
        "test_data = pd.read_csv('ML2020-Skoltech/credit/cs-test.csv')"
      ],
      "execution_count": 0,
      "outputs": []
    },
    {
      "cell_type": "markdown",
      "metadata": {
        "id": "ka4pA7SYRgtj",
        "colab_type": "text"
      },
      "source": [
        "See some technical info about data"
      ]
    },
    {
      "cell_type": "code",
      "metadata": {
        "id": "i4V3veR0Rgtk",
        "colab_type": "code",
        "outputId": "06002a03-3987-4735-cc7f-46bfb6c054d4",
        "colab": {
          "base_uri": "https://localhost:8080/",
          "height": 306
        }
      },
      "source": [
        "# print information about the data\n",
        "training_data.info(verbose=True)"
      ],
      "execution_count": 7,
      "outputs": [
        {
          "output_type": "stream",
          "text": [
            "<class 'pandas.core.frame.DataFrame'>\n",
            "RangeIndex: 150000 entries, 0 to 149999\n",
            "Data columns (total 12 columns):\n",
            "Unnamed: 0                              150000 non-null int64\n",
            "SeriousDlqin2yrs                        150000 non-null int64\n",
            "RevolvingUtilizationOfUnsecuredLines    150000 non-null float64\n",
            "age                                     150000 non-null int64\n",
            "NumberOfTime30-59DaysPastDueNotWorse    150000 non-null int64\n",
            "DebtRatio                               150000 non-null float64\n",
            "MonthlyIncome                           120269 non-null float64\n",
            "NumberOfOpenCreditLinesAndLoans         150000 non-null int64\n",
            "NumberOfTimes90DaysLate                 150000 non-null int64\n",
            "NumberRealEstateLoansOrLines            150000 non-null int64\n",
            "NumberOfTime60-89DaysPastDueNotWorse    150000 non-null int64\n",
            "NumberOfDependents                      146076 non-null float64\n",
            "dtypes: float64(4), int64(8)\n",
            "memory usage: 13.7 MB\n"
          ],
          "name": "stdout"
        }
      ]
    },
    {
      "cell_type": "markdown",
      "metadata": {
        "id": "-nRKynmNRgtp",
        "colab_type": "text"
      },
      "source": [
        "Let's look at some general statistics of data:\n",
        "* **count** -- number of not `NaN` values;\n",
        "* **mean**, **std** -- mean and standard deviation;\n",
        "* other -- minimal, maximal values, quantiles."
      ]
    },
    {
      "cell_type": "code",
      "metadata": {
        "id": "25EOI00gRgtq",
        "colab_type": "code",
        "outputId": "ca573806-65e1-44a6-c67d-f4f73960d0d4",
        "colab": {
          "base_uri": "https://localhost:8080/",
          "height": 421
        }
      },
      "source": [
        "training_data.describe().T"
      ],
      "execution_count": 8,
      "outputs": [
        {
          "output_type": "execute_result",
          "data": {
            "text/html": [
              "<div>\n",
              "<style scoped>\n",
              "    .dataframe tbody tr th:only-of-type {\n",
              "        vertical-align: middle;\n",
              "    }\n",
              "\n",
              "    .dataframe tbody tr th {\n",
              "        vertical-align: top;\n",
              "    }\n",
              "\n",
              "    .dataframe thead th {\n",
              "        text-align: right;\n",
              "    }\n",
              "</style>\n",
              "<table border=\"1\" class=\"dataframe\">\n",
              "  <thead>\n",
              "    <tr style=\"text-align: right;\">\n",
              "      <th></th>\n",
              "      <th>count</th>\n",
              "      <th>mean</th>\n",
              "      <th>std</th>\n",
              "      <th>min</th>\n",
              "      <th>25%</th>\n",
              "      <th>50%</th>\n",
              "      <th>75%</th>\n",
              "      <th>max</th>\n",
              "    </tr>\n",
              "  </thead>\n",
              "  <tbody>\n",
              "    <tr>\n",
              "      <th>Unnamed: 0</th>\n",
              "      <td>150000.0</td>\n",
              "      <td>75000.500000</td>\n",
              "      <td>43301.414527</td>\n",
              "      <td>1.0</td>\n",
              "      <td>37500.750000</td>\n",
              "      <td>75000.500000</td>\n",
              "      <td>112500.250000</td>\n",
              "      <td>150000.0</td>\n",
              "    </tr>\n",
              "    <tr>\n",
              "      <th>SeriousDlqin2yrs</th>\n",
              "      <td>150000.0</td>\n",
              "      <td>0.066840</td>\n",
              "      <td>0.249746</td>\n",
              "      <td>0.0</td>\n",
              "      <td>0.000000</td>\n",
              "      <td>0.000000</td>\n",
              "      <td>0.000000</td>\n",
              "      <td>1.0</td>\n",
              "    </tr>\n",
              "    <tr>\n",
              "      <th>RevolvingUtilizationOfUnsecuredLines</th>\n",
              "      <td>150000.0</td>\n",
              "      <td>6.048438</td>\n",
              "      <td>249.755371</td>\n",
              "      <td>0.0</td>\n",
              "      <td>0.029867</td>\n",
              "      <td>0.154181</td>\n",
              "      <td>0.559046</td>\n",
              "      <td>50708.0</td>\n",
              "    </tr>\n",
              "    <tr>\n",
              "      <th>age</th>\n",
              "      <td>150000.0</td>\n",
              "      <td>52.295207</td>\n",
              "      <td>14.771866</td>\n",
              "      <td>0.0</td>\n",
              "      <td>41.000000</td>\n",
              "      <td>52.000000</td>\n",
              "      <td>63.000000</td>\n",
              "      <td>109.0</td>\n",
              "    </tr>\n",
              "    <tr>\n",
              "      <th>NumberOfTime30-59DaysPastDueNotWorse</th>\n",
              "      <td>150000.0</td>\n",
              "      <td>0.421033</td>\n",
              "      <td>4.192781</td>\n",
              "      <td>0.0</td>\n",
              "      <td>0.000000</td>\n",
              "      <td>0.000000</td>\n",
              "      <td>0.000000</td>\n",
              "      <td>98.0</td>\n",
              "    </tr>\n",
              "    <tr>\n",
              "      <th>DebtRatio</th>\n",
              "      <td>150000.0</td>\n",
              "      <td>353.005076</td>\n",
              "      <td>2037.818523</td>\n",
              "      <td>0.0</td>\n",
              "      <td>0.175074</td>\n",
              "      <td>0.366508</td>\n",
              "      <td>0.868254</td>\n",
              "      <td>329664.0</td>\n",
              "    </tr>\n",
              "    <tr>\n",
              "      <th>MonthlyIncome</th>\n",
              "      <td>120269.0</td>\n",
              "      <td>6670.221237</td>\n",
              "      <td>14384.674215</td>\n",
              "      <td>0.0</td>\n",
              "      <td>3400.000000</td>\n",
              "      <td>5400.000000</td>\n",
              "      <td>8249.000000</td>\n",
              "      <td>3008750.0</td>\n",
              "    </tr>\n",
              "    <tr>\n",
              "      <th>NumberOfOpenCreditLinesAndLoans</th>\n",
              "      <td>150000.0</td>\n",
              "      <td>8.452760</td>\n",
              "      <td>5.145951</td>\n",
              "      <td>0.0</td>\n",
              "      <td>5.000000</td>\n",
              "      <td>8.000000</td>\n",
              "      <td>11.000000</td>\n",
              "      <td>58.0</td>\n",
              "    </tr>\n",
              "    <tr>\n",
              "      <th>NumberOfTimes90DaysLate</th>\n",
              "      <td>150000.0</td>\n",
              "      <td>0.265973</td>\n",
              "      <td>4.169304</td>\n",
              "      <td>0.0</td>\n",
              "      <td>0.000000</td>\n",
              "      <td>0.000000</td>\n",
              "      <td>0.000000</td>\n",
              "      <td>98.0</td>\n",
              "    </tr>\n",
              "    <tr>\n",
              "      <th>NumberRealEstateLoansOrLines</th>\n",
              "      <td>150000.0</td>\n",
              "      <td>1.018240</td>\n",
              "      <td>1.129771</td>\n",
              "      <td>0.0</td>\n",
              "      <td>0.000000</td>\n",
              "      <td>1.000000</td>\n",
              "      <td>2.000000</td>\n",
              "      <td>54.0</td>\n",
              "    </tr>\n",
              "    <tr>\n",
              "      <th>NumberOfTime60-89DaysPastDueNotWorse</th>\n",
              "      <td>150000.0</td>\n",
              "      <td>0.240387</td>\n",
              "      <td>4.155179</td>\n",
              "      <td>0.0</td>\n",
              "      <td>0.000000</td>\n",
              "      <td>0.000000</td>\n",
              "      <td>0.000000</td>\n",
              "      <td>98.0</td>\n",
              "    </tr>\n",
              "    <tr>\n",
              "      <th>NumberOfDependents</th>\n",
              "      <td>146076.0</td>\n",
              "      <td>0.757222</td>\n",
              "      <td>1.115086</td>\n",
              "      <td>0.0</td>\n",
              "      <td>0.000000</td>\n",
              "      <td>0.000000</td>\n",
              "      <td>1.000000</td>\n",
              "      <td>20.0</td>\n",
              "    </tr>\n",
              "  </tbody>\n",
              "</table>\n",
              "</div>"
            ],
            "text/plain": [
              "                                         count  ...        max\n",
              "Unnamed: 0                            150000.0  ...   150000.0\n",
              "SeriousDlqin2yrs                      150000.0  ...        1.0\n",
              "RevolvingUtilizationOfUnsecuredLines  150000.0  ...    50708.0\n",
              "age                                   150000.0  ...      109.0\n",
              "NumberOfTime30-59DaysPastDueNotWorse  150000.0  ...       98.0\n",
              "DebtRatio                             150000.0  ...   329664.0\n",
              "MonthlyIncome                         120269.0  ...  3008750.0\n",
              "NumberOfOpenCreditLinesAndLoans       150000.0  ...       58.0\n",
              "NumberOfTimes90DaysLate               150000.0  ...       98.0\n",
              "NumberRealEstateLoansOrLines          150000.0  ...       54.0\n",
              "NumberOfTime60-89DaysPastDueNotWorse  150000.0  ...       98.0\n",
              "NumberOfDependents                    146076.0  ...       20.0\n",
              "\n",
              "[12 rows x 8 columns]"
            ]
          },
          "metadata": {
            "tags": []
          },
          "execution_count": 8
        }
      ]
    },
    {
      "cell_type": "markdown",
      "metadata": {
        "id": "iemJpso3Rgtt",
        "colab_type": "text"
      },
      "source": [
        "Choose randomly ten objects from dataset:"
      ]
    },
    {
      "cell_type": "code",
      "metadata": {
        "id": "DcD9qhzVRgtu",
        "colab_type": "code",
        "outputId": "6d7b57ca-c68e-4350-a735-93e12d8f9dbf",
        "colab": {
          "base_uri": "https://localhost:8080/",
          "height": 396
        }
      },
      "source": [
        "training_data.sample(10, random_state=123)"
      ],
      "execution_count": 9,
      "outputs": [
        {
          "output_type": "execute_result",
          "data": {
            "text/html": [
              "<div>\n",
              "<style scoped>\n",
              "    .dataframe tbody tr th:only-of-type {\n",
              "        vertical-align: middle;\n",
              "    }\n",
              "\n",
              "    .dataframe tbody tr th {\n",
              "        vertical-align: top;\n",
              "    }\n",
              "\n",
              "    .dataframe thead th {\n",
              "        text-align: right;\n",
              "    }\n",
              "</style>\n",
              "<table border=\"1\" class=\"dataframe\">\n",
              "  <thead>\n",
              "    <tr style=\"text-align: right;\">\n",
              "      <th></th>\n",
              "      <th>Unnamed: 0</th>\n",
              "      <th>SeriousDlqin2yrs</th>\n",
              "      <th>RevolvingUtilizationOfUnsecuredLines</th>\n",
              "      <th>age</th>\n",
              "      <th>NumberOfTime30-59DaysPastDueNotWorse</th>\n",
              "      <th>DebtRatio</th>\n",
              "      <th>MonthlyIncome</th>\n",
              "      <th>NumberOfOpenCreditLinesAndLoans</th>\n",
              "      <th>NumberOfTimes90DaysLate</th>\n",
              "      <th>NumberRealEstateLoansOrLines</th>\n",
              "      <th>NumberOfTime60-89DaysPastDueNotWorse</th>\n",
              "      <th>NumberOfDependents</th>\n",
              "    </tr>\n",
              "  </thead>\n",
              "  <tbody>\n",
              "    <tr>\n",
              "      <th>102264</th>\n",
              "      <td>102265</td>\n",
              "      <td>0</td>\n",
              "      <td>0.011667</td>\n",
              "      <td>61</td>\n",
              "      <td>0</td>\n",
              "      <td>0.114001</td>\n",
              "      <td>6727.0</td>\n",
              "      <td>13</td>\n",
              "      <td>0</td>\n",
              "      <td>1</td>\n",
              "      <td>0</td>\n",
              "      <td>0.0</td>\n",
              "    </tr>\n",
              "    <tr>\n",
              "      <th>149055</th>\n",
              "      <td>149056</td>\n",
              "      <td>0</td>\n",
              "      <td>0.142272</td>\n",
              "      <td>31</td>\n",
              "      <td>0</td>\n",
              "      <td>0.766893</td>\n",
              "      <td>2500.0</td>\n",
              "      <td>6</td>\n",
              "      <td>0</td>\n",
              "      <td>1</td>\n",
              "      <td>0</td>\n",
              "      <td>0.0</td>\n",
              "    </tr>\n",
              "    <tr>\n",
              "      <th>94569</th>\n",
              "      <td>94570</td>\n",
              "      <td>0</td>\n",
              "      <td>0.849212</td>\n",
              "      <td>61</td>\n",
              "      <td>0</td>\n",
              "      <td>0.402929</td>\n",
              "      <td>3208.0</td>\n",
              "      <td>7</td>\n",
              "      <td>0</td>\n",
              "      <td>1</td>\n",
              "      <td>0</td>\n",
              "      <td>0.0</td>\n",
              "    </tr>\n",
              "    <tr>\n",
              "      <th>22569</th>\n",
              "      <td>22570</td>\n",
              "      <td>0</td>\n",
              "      <td>0.347522</td>\n",
              "      <td>52</td>\n",
              "      <td>0</td>\n",
              "      <td>0.714969</td>\n",
              "      <td>2090.0</td>\n",
              "      <td>8</td>\n",
              "      <td>0</td>\n",
              "      <td>1</td>\n",
              "      <td>0</td>\n",
              "      <td>0.0</td>\n",
              "    </tr>\n",
              "    <tr>\n",
              "      <th>13656</th>\n",
              "      <td>13657</td>\n",
              "      <td>0</td>\n",
              "      <td>0.389516</td>\n",
              "      <td>45</td>\n",
              "      <td>0</td>\n",
              "      <td>3315.000000</td>\n",
              "      <td>NaN</td>\n",
              "      <td>8</td>\n",
              "      <td>0</td>\n",
              "      <td>1</td>\n",
              "      <td>0</td>\n",
              "      <td>0.0</td>\n",
              "    </tr>\n",
              "    <tr>\n",
              "      <th>115852</th>\n",
              "      <td>115853</td>\n",
              "      <td>0</td>\n",
              "      <td>0.077395</td>\n",
              "      <td>51</td>\n",
              "      <td>0</td>\n",
              "      <td>0.199874</td>\n",
              "      <td>9500.0</td>\n",
              "      <td>4</td>\n",
              "      <td>0</td>\n",
              "      <td>2</td>\n",
              "      <td>0</td>\n",
              "      <td>3.0</td>\n",
              "    </tr>\n",
              "    <tr>\n",
              "      <th>41975</th>\n",
              "      <td>41976</td>\n",
              "      <td>1</td>\n",
              "      <td>1.053263</td>\n",
              "      <td>42</td>\n",
              "      <td>0</td>\n",
              "      <td>0.442738</td>\n",
              "      <td>3710.0</td>\n",
              "      <td>4</td>\n",
              "      <td>2</td>\n",
              "      <td>1</td>\n",
              "      <td>3</td>\n",
              "      <td>2.0</td>\n",
              "    </tr>\n",
              "    <tr>\n",
              "      <th>25428</th>\n",
              "      <td>25429</td>\n",
              "      <td>0</td>\n",
              "      <td>0.083443</td>\n",
              "      <td>58</td>\n",
              "      <td>0</td>\n",
              "      <td>0.336864</td>\n",
              "      <td>9534.0</td>\n",
              "      <td>17</td>\n",
              "      <td>0</td>\n",
              "      <td>3</td>\n",
              "      <td>0</td>\n",
              "      <td>1.0</td>\n",
              "    </tr>\n",
              "    <tr>\n",
              "      <th>459</th>\n",
              "      <td>460</td>\n",
              "      <td>0</td>\n",
              "      <td>0.003625</td>\n",
              "      <td>78</td>\n",
              "      <td>0</td>\n",
              "      <td>726.000000</td>\n",
              "      <td>NaN</td>\n",
              "      <td>8</td>\n",
              "      <td>0</td>\n",
              "      <td>1</td>\n",
              "      <td>0</td>\n",
              "      <td>NaN</td>\n",
              "    </tr>\n",
              "    <tr>\n",
              "      <th>96236</th>\n",
              "      <td>96237</td>\n",
              "      <td>0</td>\n",
              "      <td>0.645054</td>\n",
              "      <td>61</td>\n",
              "      <td>1</td>\n",
              "      <td>0.631651</td>\n",
              "      <td>14583.0</td>\n",
              "      <td>21</td>\n",
              "      <td>0</td>\n",
              "      <td>2</td>\n",
              "      <td>0</td>\n",
              "      <td>1.0</td>\n",
              "    </tr>\n",
              "  </tbody>\n",
              "</table>\n",
              "</div>"
            ],
            "text/plain": [
              "        Unnamed: 0  ...  NumberOfDependents\n",
              "102264      102265  ...                 0.0\n",
              "149055      149056  ...                 0.0\n",
              "94569        94570  ...                 0.0\n",
              "22569        22570  ...                 0.0\n",
              "13656        13657  ...                 0.0\n",
              "115852      115853  ...                 3.0\n",
              "41975        41976  ...                 2.0\n",
              "25428        25429  ...                 1.0\n",
              "459            460  ...                 NaN\n",
              "96236        96237  ...                 1.0\n",
              "\n",
              "[10 rows x 12 columns]"
            ]
          },
          "metadata": {
            "tags": []
          },
          "execution_count": 9
        }
      ]
    },
    {
      "cell_type": "markdown",
      "metadata": {
        "id": "uDpi4RNtRgtx",
        "colab_type": "text"
      },
      "source": [
        "We see that there are `NaN`s in data. Let's calculate mean values of features on **training data** and fill them in instead of the missing values. We will do that both for **train** and **test**.\n",
        "\n",
        "There are several ways to fill in skipped data:\n",
        "* mean, median;\n",
        "* regression predictions;\n",
        "* in case of time series -- last known value,\n",
        "* linear interpolation, etc.\n",
        "\n",
        "If the number of skipped values is small, you can throw the corresponding objects away."
      ]
    },
    {
      "cell_type": "code",
      "metadata": {
        "id": "0S1ukXYlRgtz",
        "colab_type": "code",
        "outputId": "37988487-4756-4295-f476-25774a0f9488",
        "colab": {
          "base_uri": "https://localhost:8080/",
          "height": 459
        }
      },
      "source": [
        "# fill NA values with mean training values\n",
        "train_mean = training_data.mean()\n",
        "\n",
        "training_data.fillna(train_mean, inplace=True)\n",
        "test_data.fillna(train_mean, inplace=True)\n",
        "\n",
        "print(training_data.isnull().sum())\n",
        "print(test_data.isnull().sum())"
      ],
      "execution_count": 10,
      "outputs": [
        {
          "output_type": "stream",
          "text": [
            "Unnamed: 0                              0\n",
            "SeriousDlqin2yrs                        0\n",
            "RevolvingUtilizationOfUnsecuredLines    0\n",
            "age                                     0\n",
            "NumberOfTime30-59DaysPastDueNotWorse    0\n",
            "DebtRatio                               0\n",
            "MonthlyIncome                           0\n",
            "NumberOfOpenCreditLinesAndLoans         0\n",
            "NumberOfTimes90DaysLate                 0\n",
            "NumberRealEstateLoansOrLines            0\n",
            "NumberOfTime60-89DaysPastDueNotWorse    0\n",
            "NumberOfDependents                      0\n",
            "dtype: int64\n",
            "Unnamed: 0                              0\n",
            "SeriousDlqin2yrs                        0\n",
            "RevolvingUtilizationOfUnsecuredLines    0\n",
            "age                                     0\n",
            "NumberOfTime30-59DaysPastDueNotWorse    0\n",
            "DebtRatio                               0\n",
            "MonthlyIncome                           0\n",
            "NumberOfOpenCreditLinesAndLoans         0\n",
            "NumberOfTimes90DaysLate                 0\n",
            "NumberRealEstateLoansOrLines            0\n",
            "NumberOfTime60-89DaysPastDueNotWorse    0\n",
            "NumberOfDependents                      0\n",
            "dtype: int64\n"
          ],
          "name": "stdout"
        }
      ]
    },
    {
      "cell_type": "markdown",
      "metadata": {
        "id": "QzpECX19Rgt1",
        "colab_type": "text"
      },
      "source": [
        "Compare train and test distributions"
      ]
    },
    {
      "cell_type": "code",
      "metadata": {
        "id": "LhlyXAR_Rgt2",
        "colab_type": "code",
        "outputId": "2d9ddce5-f793-4cd7-9d1a-95d5d12dd298",
        "colab": {
          "base_uri": "https://localhost:8080/",
          "height": 553
        }
      },
      "source": [
        "axes = training_data.hist(figsize=(16, 9), bins=25, alpha=0.75) # that will plot training data histograms\n",
        "\n",
        "for plot in axes.flat: # that will draw test data on top of training histograms\n",
        "    column = plot.title.get_text()\n",
        "    if column:\n",
        "        test_data[column].hist(ax=plot, bins=25, alpha=0.55)"
      ],
      "execution_count": 12,
      "outputs": [
        {
          "output_type": "display_data",
          "data": {
            "image/png": "[encoded data removed]",
            "text/plain": [
              "<Figure size 1152x648 with 12 Axes>"
            ]
          },
          "metadata": {
            "tags": []
          }
        }
      ]
    },
    {
      "cell_type": "markdown",
      "metadata": {
        "id": "_5xrhG2bRgt4",
        "colab_type": "text"
      },
      "source": [
        "Pay attention to **SeriousDlqin2yrs** -- 90 days past due delinquency or worse in the last 2 years. We see that most of the borrowers pay in time."
      ]
    },
    {
      "cell_type": "code",
      "metadata": {
        "id": "sbwfKx8ARgt4",
        "colab_type": "code",
        "outputId": "80319483-cee3-4daa-e582-9b9859b52799",
        "colab": {}
      },
      "source": [
        "# The data set is imbalanced: typically people return credits\n",
        "training_data[\"SeriousDlqin2yrs\"].value_counts()"
      ],
      "execution_count": 0,
      "outputs": [
        {
          "output_type": "execute_result",
          "data": {
            "text/plain": [
              "0    4696\n",
              "1     305\n",
              "Name: SeriousDlqin2yrs, dtype: int64"
            ]
          },
          "metadata": {
            "tags": []
          },
          "execution_count": 8
        }
      ]
    },
    {
      "cell_type": "markdown",
      "metadata": {
        "id": "jWdP1Z2gRgt8",
        "colab_type": "text"
      },
      "source": [
        "# Classification algorithms"
      ]
    },
    {
      "cell_type": "markdown",
      "metadata": {
        "id": "3M-AubqTRgt9",
        "colab_type": "text"
      },
      "source": [
        "First of all, load data for learning as pairs $(X, y)$, where $X = (x_i)_{i=1}^n$ -- input features,\n",
        "and $y=(y_i)_{i=1}^n$ corresponding labels."
      ]
    },
    {
      "cell_type": "code",
      "metadata": {
        "collapsed": true,
        "id": "hl3hqXb8Rgt-",
        "colab_type": "code",
        "colab": {}
      },
      "source": [
        "training_X = training_data.drop(\"SeriousDlqin2yrs\", axis=1)\n",
        "training_y = training_data[\"SeriousDlqin2yrs\"]\n",
        "\n",
        "test_X = test_data.drop(\"SeriousDlqin2yrs\", axis=1)\n",
        "test_y = test_data[\"SeriousDlqin2yrs\"]"
      ],
      "execution_count": 0,
      "outputs": []
    },
    {
      "cell_type": "markdown",
      "metadata": {
        "id": "kV1O9ZZZRguA",
        "colab_type": "text"
      },
      "source": [
        "Construct calssification algorithms and train them."
      ]
    },
    {
      "cell_type": "code",
      "metadata": {
        "id": "sTE1xxfzRguB",
        "colab_type": "code",
        "outputId": "8986d28e-4dfa-4a5d-f9d6-f5de3939da1d",
        "colab": {}
      },
      "source": [
        "# Construct Decision Tree model\n",
        "\n",
        "decision_tree = DecisionTreeClassifier()\n",
        "decision_tree.fit(training_X, training_y)"
      ],
      "execution_count": 0,
      "outputs": [
        {
          "output_type": "execute_result",
          "data": {
            "text/plain": [
              "DecisionTreeClassifier(class_weight=None, criterion='gini', max_depth=None,\n",
              "            max_features=None, max_leaf_nodes=None,\n",
              "            min_impurity_decrease=0.0, min_impurity_split=None,\n",
              "            min_samples_leaf=1, min_samples_split=2,\n",
              "            min_weight_fraction_leaf=0.0, presort=False, random_state=None,\n",
              "            splitter='best')"
            ]
          },
          "metadata": {
            "tags": []
          },
          "execution_count": 10
        }
      ]
    },
    {
      "cell_type": "code",
      "metadata": {
        "id": "q5XuE8LCRguD",
        "colab_type": "code",
        "outputId": "6b822549-eb06-4cd7-b811-ace7fd6624c3",
        "colab": {}
      },
      "source": [
        "# Construct k Nearest Neighbors model\n",
        "\n",
        "knn = KNeighborsClassifier()\n",
        "knn.fit(training_X, training_y)"
      ],
      "execution_count": 0,
      "outputs": [
        {
          "output_type": "execute_result",
          "data": {
            "text/plain": [
              "KNeighborsClassifier(algorithm='auto', leaf_size=30, metric='minkowski',\n",
              "           metric_params=None, n_jobs=1, n_neighbors=5, p=2,\n",
              "           weights='uniform')"
            ]
          },
          "metadata": {
            "tags": []
          },
          "execution_count": 11
        }
      ]
    },
    {
      "cell_type": "code",
      "metadata": {
        "id": "HSFOn2uFRguF",
        "colab_type": "code",
        "outputId": "5af0195c-622d-4da0-c870-dd27a7a78da6",
        "colab": {}
      },
      "source": [
        "print(\"Training accuracy:\")\n",
        "print(\"\\tDT accuracy:\\t%.2f%%\" % (100 * decision_tree.score(training_X, training_y)))\n",
        "print(\"\\tkNN accuracy:\\t%.2f%%\" % (100 * knn.score(training_X, training_y)))\n",
        "print(\"\\tNumber of '0' labels:\\t%.2f%%\" % (100 - 100 * np.mean(training_y)))\n",
        "print()\n",
        "\n",
        "print(\"Test accuracy:\")\n",
        "print(\"\\tDT accuarcy:\\t%.2f%%\" % (100 * decision_tree.score(test_X, test_y)))\n",
        "print(\"\\tkNN accuarcy:\\t%.2f%%\" % (100 * knn.score(test_X, test_y)))\n",
        "print(\"\\tNumber of '0' labels:\\t%.2f%%\" % (100 - 100 * np.mean(test_y)))"
      ],
      "execution_count": 0,
      "outputs": [
        {
          "output_type": "stream",
          "text": [
            "Training accuracy:\n",
            "\tDT accuracy:\t100.00%\n",
            "\tkNN accuracy:\t94.10%\n",
            "\tNumber of '0' labels:\t93.90%\n",
            "\n",
            "Test accuracy:\n",
            "\tDT accuarcy:\t89.84%\n",
            "\tkNN accuarcy:\t93.08%\n",
            "\tNumber of '0' labels:\t93.30%\n"
          ],
          "name": "stdout"
        }
      ]
    },
    {
      "cell_type": "code",
      "metadata": {
        "collapsed": true,
        "id": "MZzN4WBoRguH",
        "colab_type": "code",
        "colab": {}
      },
      "source": [
        "test_predictions_dt = decision_tree.predict(test_X)\n",
        "test_probabilities_dt = decision_tree.predict_proba(test_X)[:, 1]\n",
        "\n",
        "training_predictions_dt = decision_tree.predict(training_X)\n",
        "training_probabilities_dt = decision_tree.predict_proba(training_X)[:, 1]"
      ],
      "execution_count": 0,
      "outputs": []
    },
    {
      "cell_type": "code",
      "metadata": {
        "collapsed": true,
        "id": "jPCXSNG9RguI",
        "colab_type": "code",
        "colab": {}
      },
      "source": [
        "test_predictions_knn = knn.predict(test_X)\n",
        "test_probabilities_knn = knn.predict_proba(test_X)[:, 1]\n",
        "\n",
        "training_predictions_knn = knn.predict(training_X)\n",
        "training_probabilities_knn = knn.predict_proba(training_X)[:, 1]"
      ],
      "execution_count": 0,
      "outputs": []
    },
    {
      "cell_type": "markdown",
      "metadata": {
        "_cell_guid": "26dd2732-b34f-4177-8786-8794537494e1",
        "id": "3IstWq8gRguL",
        "colab_type": "text"
      },
      "source": [
        "# Classification quality measures"
      ]
    },
    {
      "cell_type": "markdown",
      "metadata": {
        "id": "3dScoO3hRguL",
        "colab_type": "text"
      },
      "source": [
        "## Confusion matrix\n",
        "\n",
        "Confusion matrix is table layout that allows visualization of the performance of an algorithm. Rows of this matrix correspond to actual classes of the test set, columns correspond to predicted labels. There are 4 types of elements if predictions are given:\n",
        "* True Positive\n",
        "* False Negative\n",
        "* False Positive\n",
        "* True Negative\n",
        "\n",
        "| Variable | Predicted True | Predicted False |\n",
        "| ------------- |-------------|-----|\n",
        "| Actual True  | TP | FN | \n",
        "| Actual False | FP | TN |\n"
      ]
    },
    {
      "cell_type": "code",
      "metadata": {
        "id": "rzywp8CWRguM",
        "colab_type": "code",
        "outputId": "dc7ebea2-7eb7-42f2-a061-00493d73f933",
        "colab": {}
      },
      "source": [
        "confusion_dt = pd.DataFrame(confusion_matrix(test_y, test_predictions_dt))\n",
        "\n",
        "confusion_knn = pd.DataFrame(confusion_matrix(test_y, test_predictions_knn))\n",
        "\n",
        "print('Confusion for Decision Tree:')\n",
        "print(confusion_dt)\n",
        "print('Confusion for kNN:')\n",
        "print(confusion_knn)"
      ],
      "execution_count": 0,
      "outputs": [
        {
          "output_type": "stream",
          "text": [
            "Confusion for Decision Tree:\n",
            "      0    1\n",
            "0  4410  256\n",
            "1   252   83\n",
            "Confusion for kNN:\n",
            "      0   1\n",
            "0  4651  15\n",
            "1   331   4\n"
          ],
          "name": "stdout"
        }
      ]
    },
    {
      "cell_type": "markdown",
      "metadata": {
        "id": "YRDQ-Ad1RguN",
        "colab_type": "text"
      },
      "source": [
        "If we want to compare metrics on different data, we can use instead True Positive Rate and False Positive Rate:\n",
        "* False Positive Rate is $\\frac{FP}{FP + TN}$\n",
        "* True  Positive Rate is $\\frac{TP}{TP + FN}$"
      ]
    },
    {
      "cell_type": "markdown",
      "metadata": {
        "id": "On9BbPlLRguO",
        "colab_type": "text"
      },
      "source": [
        "## ROC curve"
      ]
    },
    {
      "cell_type": "markdown",
      "metadata": {
        "id": "9cxiJFHaRguO",
        "colab_type": "text"
      },
      "source": [
        "ROC stands for *Receiver Operating Characteristic*. This curve shows True Positive Rate (**TPR**) against False Positive Rate (**FPR**) as classifier's discrimination threshold is varied\n",
        "\n",
        "Remember that classifiers are usually constructed based on some function\n",
        "$f(x) \\in [0, 1]$ and threshold $\\tau$:\n",
        "$$ \\text{Classifier}\\bigl(\\text{object}\\bigr)\n",
        "    = \\begin{cases}\n",
        "    1 & \\text{if}\\, f(\\text{object}) \\geq \\tau\\,,\\\\\n",
        "    0 & \\text{else}\\,.\n",
        "    \\end{cases}\n",
        "    $$\n",
        "    \n",
        "**roc_curve** function from *scikit-learn* allows to easily obtain ROC curve points and **threshold** values."
      ]
    },
    {
      "cell_type": "code",
      "metadata": {
        "collapsed": true,
        "id": "0ZS_9IRTRguO",
        "colab_type": "code",
        "colab": {}
      },
      "source": [
        "false_positive_rates_dt, true_positive_rates_dt, threshold_dt = roc_curve(test_y, test_probabilities_dt)\n",
        "\n",
        "false_positive_rates_knn, true_positive_rates_knn, threshold_knn = roc_curve(test_y, test_probabilities_knn)"
      ],
      "execution_count": 0,
      "outputs": []
    },
    {
      "cell_type": "code",
      "metadata": {
        "id": "FvDKLoNuRguP",
        "colab_type": "code",
        "outputId": "59babc3d-c52d-425d-b48a-a91a65bbc33c",
        "colab": {}
      },
      "source": [
        "# create plot\n",
        "fig = plt.figure(figsize=(14, 7))\n",
        "\n",
        "# specify parameters for the first curve\n",
        "plot_1 = fig.add_subplot(121,\n",
        "                       xlabel=\"FPR\", xlim=(-.01, 1.01),\n",
        "                       ylabel=\"TPR\", ylim=(-.01, 1.01), title = 'Decision Tree')\n",
        "\n",
        "# draw the first curve\n",
        "plot_1.plot(false_positive_rates_dt, true_positive_rates_dt,\n",
        "          color='darkorange', lw=2, label = 'ROC-curve on test')\n",
        "plot_1.plot([0, 1], [0, 1], color='navy', lw=2, linestyle=':')\n",
        "plt.legend(loc=\"lower right\")\n",
        "\n",
        "# specify parameters for the second curve\n",
        "plot_2 = fig.add_subplot(122,\n",
        "                       xlabel=\"FPR\", xlim=(-.01, 1.01),\n",
        "                       ylabel=\"TPR\", ylim=(-.01, 1.01), title = 'k Nearest Neighbors')\n",
        "\n",
        "# draw the second curve\n",
        "plot_2.plot(false_positive_rates_knn, true_positive_rates_knn,\n",
        "          color='darkorange', lw=2, label = 'ROC-curve on test')\n",
        "plot_2.plot([0, 1], [0, 1], color='navy', lw=2, linestyle=':')\n",
        "plt.legend(loc=\"lower right\")\n",
        "\n",
        "plt.show()"
      ],
      "execution_count": 0,
      "outputs": [
        {
          "output_type": "display_data",
          "data": {
            "image/png": "[encoded data removed]",
            "text/plain": [
              "<matplotlib.figure.Figure at 0x1172ce9b0>"
            ]
          },
          "metadata": {
            "tags": []
          }
        }
      ]
    },
    {
      "cell_type": "markdown",
      "metadata": {
        "id": "abo7ybOJRguR",
        "colab_type": "text"
      },
      "source": [
        "The closer **ROC** curve to the **upper left** corner, the better classification is.\n",
        "\n",
        "Despite being a good visual representation we usually need a number to make conclusions about calssification quality. In case of ROC curve this number is Area Under the Curve (**ROC-AUC**). \n",
        "\n",
        "*scikit-learn* has a special function **auc(...)**:"
      ]
    },
    {
      "cell_type": "code",
      "metadata": {
        "id": "Ahg07oWIRguS",
        "colab_type": "code",
        "outputId": "bc00d1b8-7b40-4842-a56a-77c16c49e427",
        "colab": {}
      },
      "source": [
        "roc_auc_dt = auc(false_positive_rates_dt, true_positive_rates_dt)\n",
        "roc_auc_knn = auc(false_positive_rates_knn, true_positive_rates_knn)\n",
        "\n",
        "print(\"DT ROC-AUC on test data:\", roc_auc_dt) \n",
        "print(\"kNN ROC-AUC on test data:\", roc_auc_knn) "
      ],
      "execution_count": 0,
      "outputs": [
        {
          "output_type": "stream",
          "text": [
            "DT ROC-AUC on test data: 0.596448106659\n",
            "kNN ROC-AUC on test data: 0.510502779715\n"
          ],
          "name": "stdout"
        }
      ]
    },
    {
      "cell_type": "markdown",
      "metadata": {
        "id": "WcKQ5z9YRguU",
        "colab_type": "text"
      },
      "source": [
        "**ROC-AUC** scale:\n",
        "* $0.90$ -- $1.00$ perfect;\n",
        "* $0.80$ -- $0.90$ good;\n",
        "* $0.70$ -- $0.80$ satisfactory;\n",
        "* $0.60$ -- $0.70$ bad;\n",
        "* $0.50$ -- $0.60$ very bad;\n",
        "* $0.00$ -- $0.50$ classifier confuses labels."
      ]
    },
    {
      "cell_type": "markdown",
      "metadata": {
        "id": "nUDXlgKgRguU",
        "colab_type": "text"
      },
      "source": [
        "For the trainibng set ROC curve and ROC-AUC look much better."
      ]
    },
    {
      "cell_type": "code",
      "metadata": {
        "id": "9tTlhOJBRguV",
        "colab_type": "code",
        "outputId": "07c44ddb-3928-45d2-b4e8-500677a4e362",
        "colab": {}
      },
      "source": [
        "training_false_positive_rates_dt, training_true_positive_rates_dt, _ = roc_curve(training_y, training_probabilities_dt)\n",
        "training_false_positive_rates_knn, training_true_positive_rates_knn, _ = roc_curve(training_y, training_probabilities_knn)\n",
        "\n",
        "training_roc_auc_dt = auc(training_false_positive_rates_dt, training_true_positive_rates_dt)\n",
        "training_roc_auc_knn = auc(training_false_positive_rates_knn, training_true_positive_rates_knn)\n",
        "\n",
        "print(\"DT ROC-AUC on training data:\", training_roc_auc_dt) \n",
        "print(\"kNN ROC-AUC on training data:\", training_roc_auc_knn) "
      ],
      "execution_count": 0,
      "outputs": [
        {
          "output_type": "stream",
          "text": [
            "DT ROC-AUC on training data: 1.0\n",
            "kNN ROC-AUC on training data: 0.909384687352\n"
          ],
          "name": "stdout"
        }
      ]
    },
    {
      "cell_type": "code",
      "metadata": {
        "id": "-KxRefTVRguX",
        "colab_type": "code",
        "outputId": "32d8b102-3cbe-4c63-b2bf-c44abd395acb",
        "colab": {}
      },
      "source": [
        "fig = plt.figure(figsize=(14, 7))\n",
        "\n",
        "plot_1 = fig.add_subplot(121,\n",
        "                       xlabel=\"FPR\", xlim=(-.01, 1.01),\n",
        "                       ylabel=\"TPR\", ylim=(-.01, 1.01), title = 'Decision Tree')\n",
        "\n",
        "# draw the first curve\n",
        "plot_1.plot(training_false_positive_rates_dt, training_true_positive_rates_dt,\n",
        "          color='darkgreen', lw=2, label = 'ROC-curve on train (AUC = %0.2f)' % training_roc_auc_dt)\n",
        "plot_1.plot(false_positive_rates_dt, true_positive_rates_dt,\n",
        "          color='darkorange', lw=2, label = 'ROC-curve on test (AUC = %0.2f)' % roc_auc_dt)\n",
        "plot_1.plot([0, 1], [0, 1], color='navy', lw=2, linestyle=':')\n",
        "plt.legend(loc=\"lower right\")\n",
        "\n",
        "# specify parameters for the second curve\n",
        "plot_2 = fig.add_subplot(122,\n",
        "                       xlabel=\"FPR\", xlim=(-.01, 1.01),\n",
        "                       ylabel=\"TPR\", ylim=(-.01, 1.01), title = 'k Nearest Neighbors')\n",
        "\n",
        "# draw the second curve\n",
        "plot_2.plot(training_false_positive_rates_knn, training_true_positive_rates_knn,\n",
        "          color='darkgreen', lw=2, label = 'ROC-curve on train (AUC = %0.2f)' % training_roc_auc_knn)\n",
        "plot_2.plot(false_positive_rates_knn, true_positive_rates_knn,\n",
        "          color='darkorange', lw=2, label = 'ROC-curve on test (AUC = %0.2f)' % roc_auc_knn)\n",
        "plot_2.plot([0, 1], [0, 1], color='navy', lw=2, linestyle=':')\n",
        "plt.legend(loc=\"lower right\")\n",
        "\n",
        "plt.show()"
      ],
      "execution_count": 0,
      "outputs": [
        {
          "output_type": "display_data",
          "data": {
            "image/png": "[encoded data removed]",
            "text/plain": [
              "<matplotlib.figure.Figure at 0x117a60630>"
            ]
          },
          "metadata": {
            "tags": []
          }
        }
      ]
    },
    {
      "cell_type": "markdown",
      "metadata": {
        "id": "I_hnBlepRguZ",
        "colab_type": "text"
      },
      "source": [
        "## Precision and Recall\n",
        "\n",
        "Precision and Recall are two other measures for evaluation of classification quality. Both of the metrics are calculated based on **confusion matrix**.\n",
        "\n",
        "<img src=\"https://github.com/IlyaTrofimov/ML2020-Skoltech/blob/master/figures/precision_recall.png?raw=1\">\n",
        "\n",
        "Note that Recall equals to True Positive Rate."
      ]
    },
    {
      "cell_type": "markdown",
      "metadata": {
        "id": "isniEjqiRguZ",
        "colab_type": "text"
      },
      "source": [
        "Although \"accuracy\" and \"precision\" have very similar meanings, they are completely different metrics. Look how Precision and Recall are evaluated for k Nearest Neighbors classifier:"
      ]
    },
    {
      "cell_type": "code",
      "metadata": {
        "collapsed": true,
        "id": "jI5lqz98Rgua",
        "colab_type": "code",
        "colab": {}
      },
      "source": [
        "confusion = confusion_matrix(test_y, test_predictions_knn)"
      ],
      "execution_count": 0,
      "outputs": []
    },
    {
      "cell_type": "code",
      "metadata": {
        "collapsed": true,
        "id": "p-L5cRvxRgub",
        "colab_type": "code",
        "colab": {}
      },
      "source": [
        "TN, FP = confusion[0, 0], confusion[0, 1]\n",
        "\n",
        "FN, TP = confusion[1, 0], confusion[1, 1]"
      ],
      "execution_count": 0,
      "outputs": []
    },
    {
      "cell_type": "markdown",
      "metadata": {
        "id": "OZ3xdtuPRgub",
        "colab_type": "text"
      },
      "source": [
        "**Recall** of a classifier is equal to True Positive Rate **TPR** ($\\frac{TP}{TP + FN}$). This value may be interpreted as a sensitivity of a classifier to the objects with label `1`. If it is close to $100\\%$, then a classifier rarely \"miss\" the object of class `1`."
      ]
    },
    {
      "cell_type": "code",
      "metadata": {
        "id": "_61uxNrGRguc",
        "colab_type": "code",
        "outputId": "164fc0d4-c576-4c45-d5dd-4b9315527b6c",
        "colab": {}
      },
      "source": [
        "recall = TP / (TP + FN)\n",
        "\n",
        "print(\"Recall: %.2f%%\" % (100 * recall))"
      ],
      "execution_count": 0,
      "outputs": [
        {
          "output_type": "stream",
          "text": [
            "Recall: 1.19%\n"
          ],
          "name": "stdout"
        }
      ]
    },
    {
      "cell_type": "markdown",
      "metadata": {
        "id": "3J1HymcdRgud",
        "colab_type": "text"
      },
      "source": [
        "**Precision** -- is a fraction $\\frac{TP}{TP + FP}$. If this value is large, then a classifier assigns label `1` to objects with actual label `0` rarely.\n",
        "\n",
        "See how it is different to Accuracy = $\\frac{TP + TN}{TP + TN + FP + FN}$"
      ]
    },
    {
      "cell_type": "code",
      "metadata": {
        "id": "rK4ZPgf0Rgud",
        "colab_type": "code",
        "outputId": "edb6a589-90c0-4d2c-b1be-68e968a84ecf",
        "colab": {}
      },
      "source": [
        "precision = TP / (TP + FP)\n",
        "\n",
        "print(\"Precision: %.2f%%\" % (100 * precision))"
      ],
      "execution_count": 0,
      "outputs": [
        {
          "output_type": "stream",
          "text": [
            "Precision: 21.05%\n"
          ],
          "name": "stdout"
        }
      ]
    },
    {
      "cell_type": "markdown",
      "metadata": {
        "id": "Tlths8-WRgue",
        "colab_type": "text"
      },
      "source": [
        "A classifier with large Recall but small Precision produces many false positive predictions and tends to assign many `1` labels.\n",
        "\n",
        "Vice versa, if a classifier has small Recall but large Precision, then it detects class `1` accurately, but misses many objects (many false negative predictions)."
      ]
    },
    {
      "cell_type": "markdown",
      "metadata": {
        "id": "mE6H_qHoRgue",
        "colab_type": "text"
      },
      "source": [
        "### Precision-Recall curve"
      ]
    },
    {
      "cell_type": "markdown",
      "metadata": {
        "id": "5cgp4cveRguf",
        "colab_type": "text"
      },
      "source": [
        "In **precision-recall** space we may construct a curve similar to **ROC** curve in **FPR-TPR** space. PR curve also depicts the dependecy of Precision and Recall on threshold. *scikit* has the corresponding function: **precision_recall_curve(...)**.\n",
        "\n",
        "Let's calculate PR curve points.\n",
        "\n",
        "Note that unlike ROC curve, we cannot use interpolation for calculation of area under the curve. This may lead to larger values of the metric, which is not good. In this case we need to use **average_precision_score()** function instead of **auc()** function."
      ]
    },
    {
      "cell_type": "code",
      "metadata": {
        "id": "TEIzrTmiRguf",
        "colab_type": "code",
        "outputId": "8a9db5c8-3eaa-48b0-9201-6ac84f358d9b",
        "colab": {}
      },
      "source": [
        "# generate values for Precision-Recall curve\n",
        "precision_dt, recall_dt, _ = precision_recall_curve(test_y, test_probabilities_dt)\n",
        "precision_knn, recall_knn, _ = precision_recall_curve(test_y, test_probabilities_knn)\n",
        "\n",
        "# calculate value under Precision-Recall curve\n",
        "pr_auc_dt = average_precision_score(test_y, test_probabilities_dt)\n",
        "pr_auc_knn = average_precision_score(test_y, test_probabilities_knn)\n",
        "\n",
        "print(\"DT PR-AUC on test data:\", pr_auc_dt) \n",
        "print(\"kNN PR-AUC on test data:\", pr_auc_knn)"
      ],
      "execution_count": 0,
      "outputs": [
        {
          "output_type": "stream",
          "text": [
            "DT PR-AUC on test data: 0.111051217309\n",
            "kNN PR-AUC on test data: 0.0699772358184\n"
          ],
          "name": "stdout"
        }
      ]
    },
    {
      "cell_type": "code",
      "metadata": {
        "id": "ymsau0J_Rgug",
        "colab_type": "code",
        "outputId": "1b3c5ece-de08-4d9e-8d1d-25bfd1342928",
        "colab": {}
      },
      "source": [
        "# generate values for training Precision Recall curve\n",
        "training_precision_dt, training_recall_dt, _ = precision_recall_curve(training_y, training_probabilities_dt)\n",
        "training_precision_knn, training_recall_knn, _ = precision_recall_curve(training_y, training_probabilities_knn)\n",
        "\n",
        "# TODO calculate value under precision-recall curve\n",
        "training_pr_auc_dt = average_precision_score(training_y, training_probabilities_dt)\n",
        "training_pr_auc_knn = average_precision_score(training_y, training_probabilities_knn)\n",
        "\n",
        "print(\"DT PR-AUC on training data:\", training_pr_auc_dt) \n",
        "print(\"kNN PR-AUC on training data:\", training_pr_auc_knn) "
      ],
      "execution_count": 0,
      "outputs": [
        {
          "output_type": "stream",
          "text": [
            "DT PR-AUC on training data: 1.0\n",
            "kNN PR-AUC on training data: 0.291291159996\n"
          ],
          "name": "stdout"
        }
      ]
    },
    {
      "cell_type": "code",
      "metadata": {
        "id": "GflTFHKgRguh",
        "colab_type": "code",
        "outputId": "3e8fb79b-a024-46ec-8167-249af477e3e2",
        "colab": {}
      },
      "source": [
        "fig = plt.figure(figsize=(14, 7))\n",
        "\n",
        "plot_1 = fig.add_subplot(121,\n",
        "                       xlabel=\"Recall\", xlim=(-.01, 1.01),\n",
        "                       ylabel=\"Precision\", ylim=(-.01, 1.01), title = 'Decision Tree')\n",
        "\n",
        "plot_1.plot(training_recall_dt, training_precision_dt,\n",
        "          color='darkgreen', lw=2, label = 'PR-curve on train (AUC = %0.2f)' % training_pr_auc_dt)\n",
        "plot_1.plot(recall_dt, precision_dt,\n",
        "          color='darkorange', lw=2, label = 'PR-curve on test (AUC = %0.2f)' % pr_auc_dt)\n",
        "plt.legend(loc=\"upper right\")\n",
        "\n",
        "\n",
        "plot_2 = fig.add_subplot(122,\n",
        "                       xlabel=\"Recall\", xlim=(-.01, 1.01),\n",
        "                       ylabel=\"Precision\", ylim=(-.01, 1.01), title = 'k Nearest Neighbors')\n",
        "\n",
        "plot_2.plot(training_recall_knn, training_precision_knn,\n",
        "          color='darkgreen', lw=2, label = 'PR-curve on train (AUC = %0.2f)' % training_pr_auc_knn)\n",
        "plot_2.plot(recall_knn, precision_knn,\n",
        "          color='darkorange', lw=2, label = 'PR-curve on test (AUC = %0.2f)' % pr_auc_knn)\n",
        "plt.legend(loc=\"upper right\")\n",
        "\n",
        "plt.show()"
      ],
      "execution_count": 0,
      "outputs": [
        {
          "output_type": "display_data",
          "data": {
            "image/png": "[encoded data removed]",
            "text/plain": [
              "<matplotlib.figure.Figure at 0x117a5cdd8>"
            ]
          },
          "metadata": {
            "tags": []
          }
        }
      ]
    },
    {
      "cell_type": "markdown",
      "metadata": {
        "id": "L1M5pctyRgui",
        "colab_type": "text"
      },
      "source": [
        "The closer **PR** curve to the **upper right** corner, the better classification is.\n",
        "\n",
        "Large AUC value means that Precision and Recall are also large. That means that classifier makes small number of both False Positives and False Negatives."
      ]
    },
    {
      "cell_type": "markdown",
      "metadata": {
        "id": "d2yCJoE1Rgui",
        "colab_type": "text"
      },
      "source": [
        "## F1 score\n",
        "\n",
        "This metric allows to take into account a different cost for False Positive Errors and False Negative Errors.\n",
        "\n",
        "General $F_\\beta$ score is defined as follows:\n",
        "$$\n",
        "F_\\beta = (1 + \\beta^2) \\frac{Precision \\cdot Recall}{\\beta^2 Precision + Recall} = \\frac{1 + \\beta^2}{\\frac{\\beta^2}{Recall} + \\frac{1}{Precision}}= \\frac{\\beta + \\beta^{-1}}{\\beta\\frac{1}{\\text{Recall}} + \\beta^{-1}\\frac{1}{\\text{Precision}}}\n",
        "    \\,.\n",
        "$$\n",
        "\n",
        "Most commonly used is $F_1$ score:\n",
        "$$\n",
        "F_1 = \\frac{Precision \\cdot Recall}{Precision + Recall}\n",
        "$$\n",
        "\n",
        "Harmonic mean is used in order to make metric value very small when Precision or Recall is close to zero. Note that $F_1$ score doesn't describe how classifier works for True Negative results (**TN**)."
      ]
    },
    {
      "cell_type": "code",
      "metadata": {
        "id": "n7QtQhePRgui",
        "colab_type": "code",
        "outputId": "77bc2c2c-9713-417c-bb90-335e78f42589",
        "colab": {}
      },
      "source": [
        "print(\"DT F1 score on training data\", f1_score(training_y, training_predictions_dt))\n",
        "print(\"kNN F1 score on training data\", f1_score(training_y, training_predictions_knn))\n",
        "\n",
        "print(\"DT F1 score on test data\", f1_score(test_y, test_predictions_dt))\n",
        "print(\"kNN F1 score on test data\", f1_score(test_y, test_predictions_knn))"
      ],
      "execution_count": 0,
      "outputs": [
        {
          "output_type": "stream",
          "text": [
            "DT F1 score on training data 1.0\n",
            "kNN F1 score on training data 0.0866873065015\n",
            "DT F1 score on test data 0.246290801187\n",
            "kNN F1 score on test data 0.0225988700565\n"
          ],
          "name": "stdout"
        }
      ]
    },
    {
      "cell_type": "markdown",
      "metadata": {
        "id": "KUI4RS4iRguj",
        "colab_type": "text"
      },
      "source": [
        "$F_1$ score is good for imbalanced classification, when a number of class `1` objects is **much** bigger than class `0` objects."
      ]
    },
    {
      "cell_type": "markdown",
      "metadata": {
        "id": "BsvimD8oRguj",
        "colab_type": "text"
      },
      "source": [
        "Let's compare **accuracy** and $F_1$ score of our classifiers with *random* classifier, which works as follows:\n",
        "\n",
        "* estimate probability $\\hat{p}$ of class `1` on training data (frequency of class `1` objects);\n",
        "* for every test object predict randomly:\n",
        "    * label `1` with probability $\\hat{p}$,\n",
        "    * label `0` with probability $1 - \\hat{p}$."
      ]
    },
    {
      "cell_type": "code",
      "metadata": {
        "collapsed": true,
        "id": "N6jrY5vkRguk",
        "colab_type": "code",
        "colab": {}
      },
      "source": [
        "training_prob = sum(training_y) / len(training_y)\n",
        "random_predictions = np.random.binomial(1, training_prob, len(test_y))"
      ],
      "execution_count": 0,
      "outputs": []
    },
    {
      "cell_type": "code",
      "metadata": {
        "id": "cSnRWleIRguk",
        "colab_type": "code",
        "outputId": "ea55e721-877d-4f68-da70-5e264e8dd5a3",
        "colab": {}
      },
      "source": [
        "print(\"Decision Tree accuracy\\t\\t\", accuracy_score(test_y, test_predictions_dt))\n",
        "print(\"kNN accuracy\\t\\t\\t\", accuracy_score(test_y, test_predictions_knn))\n",
        "print(\"Random classifier accuracy\\t\", accuracy_score(test_y, random_predictions))\n",
        "print('---')\n",
        "print(\"Decision Tree F1 score\\t\\t\", f1_score(test_y, test_predictions_dt))\n",
        "print(\"kNN F1 score\\t\\t\\t\", f1_score(test_y, test_predictions_knn))\n",
        "print(\"FRandom classifier F1 score\\t\", f1_score(test_y, random_predictions))"
      ],
      "execution_count": 0,
      "outputs": [
        {
          "output_type": "stream",
          "text": [
            "Decision Tree accuracy\t\t 0.898420315937\n",
            "kNN accuracy\t\t\t 0.930813837233\n",
            "Random classifier accuracy\t 0.876824635073\n",
            "---\n",
            "Decision Tree F1 score\t\t 0.246290801187\n",
            "kNN F1 score\t\t\t 0.0225988700565\n",
            "FRandom classifier F1 score\t 0.0523076923077\n"
          ],
          "name": "stdout"
        }
      ]
    },
    {
      "cell_type": "markdown",
      "metadata": {
        "id": "jR-2x26HRgul",
        "colab_type": "text"
      },
      "source": [
        "# Exercise 1\n",
        "\n",
        "We have seen how some of classifiers work for this dataset. Now, try it yourself with Logistic Regression.\n",
        "\n",
        "* Fisrt, **import** **LogisticRegression()** function and train it on training data.\n",
        "* Then, calculate **ROC AUC**, **PR AUC** and **F1 score** on test data.\n",
        "* Try to change parameters to improve results.\n",
        "\n",
        "http://scikit-learn.org/stable/modules/generated/sklearn.linear_model.LogisticRegression.html"
      ]
    },
    {
      "cell_type": "code",
      "metadata": {
        "collapsed": true,
        "id": "ohvRKx9ORgul",
        "colab_type": "code",
        "colab": {}
      },
      "source": [
        "# import function here\n"
      ],
      "execution_count": 0,
      "outputs": []
    },
    {
      "cell_type": "code",
      "metadata": {
        "id": "YcienmfPRgum",
        "colab_type": "code",
        "colab": {}
      },
      "source": [
        "logistic_regression = \n"
      ],
      "execution_count": 0,
      "outputs": []
    },
    {
      "cell_type": "code",
      "metadata": {
        "collapsed": true,
        "id": "m78nGLR9Rgun",
        "colab_type": "code",
        "colab": {}
      },
      "source": [
        "# put your code here\n"
      ],
      "execution_count": 0,
      "outputs": []
    },
    {
      "cell_type": "markdown",
      "metadata": {
        "id": "a6TkioS4Rguo",
        "colab_type": "text"
      },
      "source": [
        "# Cross-validation technique\n",
        "\n",
        "In many cases test sample is not available or we have a small dataset, and we have only one sample: a training one. The most popular approach in this case is **cross-validation**.\n",
        "\n",
        "The most common way is $k$-fold cross-validation. The idea is to divide training sample into $k$ blocks, one of them is treated as an artificial test sample and other $k-1$ are used for training.\n",
        "\n",
        "*scikit* has several functions for dividing data into folds and for performing automated cross-validation. One of those functions is **GridSearchCV()**.\n",
        "\n",
        "<img src=\"https://github.com/IlyaTrofimov/ML2020-Skoltech/blob/master/figures/5-fold-cv.png?raw=1\">"
      ]
    },
    {
      "cell_type": "code",
      "metadata": {
        "collapsed": true,
        "id": "gYrK5jMjRguo",
        "colab_type": "code",
        "colab": {}
      },
      "source": [
        "from sklearn.model_selection import GridSearchCV"
      ],
      "execution_count": 0,
      "outputs": []
    },
    {
      "cell_type": "code",
      "metadata": {
        "id": "nyEK6VfhRgup",
        "colab_type": "code",
        "outputId": "a15ad5c7-c415-4bae-b0a4-25fd7858cc81",
        "colab": {}
      },
      "source": [
        "parameters_knn = {'n_neighbors': [5, 10, 15, 20]}\n",
        "knn_cv = GridSearchCV(knn, param_grid = parameters_knn)\n",
        "knn_cv.fit(training_X, training_y)"
      ],
      "execution_count": 0,
      "outputs": [
        {
          "output_type": "execute_result",
          "data": {
            "text/plain": [
              "GridSearchCV(cv=None, error_score='raise',\n",
              "       estimator=KNeighborsClassifier(algorithm='auto', leaf_size=30, metric='minkowski',\n",
              "           metric_params=None, n_jobs=1, n_neighbors=5, p=2,\n",
              "           weights='uniform'),\n",
              "       fit_params=None, iid=True, n_jobs=1,\n",
              "       param_grid={'n_neighbors': [5, 10, 15, 20]},\n",
              "       pre_dispatch='2*n_jobs', refit=True, return_train_score='warn',\n",
              "       scoring=None, verbose=0)"
            ]
          },
          "metadata": {
            "tags": []
          },
          "execution_count": 32
        }
      ]
    },
    {
      "cell_type": "code",
      "metadata": {
        "id": "TeMY6XA8Rgur",
        "colab_type": "code",
        "outputId": "9854da95-cb5e-4e3e-bcd8-b85290db94fc",
        "colab": {}
      },
      "source": [
        "knn_cv.best_params_"
      ],
      "execution_count": 0,
      "outputs": [
        {
          "output_type": "execute_result",
          "data": {
            "text/plain": [
              "{'n_neighbors': 10}"
            ]
          },
          "metadata": {
            "tags": []
          },
          "execution_count": 33
        }
      ]
    },
    {
      "cell_type": "code",
      "metadata": {
        "collapsed": true,
        "id": "UsU_RBGXRgus",
        "colab_type": "code",
        "colab": {}
      },
      "source": [
        "predictions_knn_cv = knn_cv.predict(test_X)\n",
        "probabilities_knn_cv = knn_cv.predict_proba(test_X)[:,1]"
      ],
      "execution_count": 0,
      "outputs": []
    },
    {
      "cell_type": "code",
      "metadata": {
        "collapsed": true,
        "id": "qCaJEBADRgus",
        "colab_type": "code",
        "colab": {}
      },
      "source": [
        "false_positive_rates_knn_cv, true_positive_rates_knn_cv, _ = roc_curve(test_y, probabilities_knn_cv)\n",
        "roc_auc_knn_cv = auc(false_positive_rates_knn_cv, true_positive_rates_knn_cv)"
      ],
      "execution_count": 0,
      "outputs": []
    },
    {
      "cell_type": "code",
      "metadata": {
        "collapsed": true,
        "id": "t_O13F2iRgut",
        "colab_type": "code",
        "colab": {}
      },
      "source": [
        "precision_knn_cv, recall_knn_cv, _ = precision_recall_curve(test_y, probabilities_knn_cv)\n",
        "pr_auc_knn_cv = average_precision_score(test_y, probabilities_knn_cv)"
      ],
      "execution_count": 0,
      "outputs": []
    },
    {
      "cell_type": "code",
      "metadata": {
        "id": "8JqCy0TkRguu",
        "colab_type": "code",
        "outputId": "3e62afa4-0bb0-4f10-c6b3-86beaf837922",
        "colab": {}
      },
      "source": [
        "f1_knn_cv = f1_score(test_y, predictions_knn_cv)"
      ],
      "execution_count": 0,
      "outputs": [
        {
          "output_type": "stream",
          "text": [
            "/Users/albertmatveev/anaconda3/lib/python3.6/site-packages/sklearn/metrics/classification.py:1135: UndefinedMetricWarning: F-score is ill-defined and being set to 0.0 due to no predicted samples.\n",
            "  'precision', 'predicted', average, warn_for)\n"
          ],
          "name": "stderr"
        }
      ]
    },
    {
      "cell_type": "code",
      "metadata": {
        "id": "8NZmrRQeRguv",
        "colab_type": "code",
        "outputId": "f83f9b22-9f1a-43c3-fbbd-2bf0db92b100",
        "colab": {}
      },
      "source": [
        "print('ROC AUC: ', roc_auc_knn_cv)\n",
        "print('PR AUC: ', pr_auc_knn_cv)\n",
        "print('F1_score: ', f1_knn_cv)"
      ],
      "execution_count": 0,
      "outputs": [
        {
          "output_type": "stream",
          "text": [
            "ROC AUC:  0.549520827069\n",
            "PR AUC:  0.0797195956759\n",
            "F1_score:  0.0\n"
          ],
          "name": "stdout"
        }
      ]
    },
    {
      "cell_type": "code",
      "metadata": {
        "id": "QkOJbuP3Rguv",
        "colab_type": "code",
        "outputId": "912c9a52-20d6-4242-c2d7-2251c1205719",
        "colab": {}
      },
      "source": [
        "pd.DataFrame(confusion_matrix(test_y, predictions_knn_cv))"
      ],
      "execution_count": 0,
      "outputs": [
        {
          "output_type": "execute_result",
          "data": {
            "text/html": [
              "<div>\n",
              "<style>\n",
              "    .dataframe thead tr:only-child th {\n",
              "        text-align: right;\n",
              "    }\n",
              "\n",
              "    .dataframe thead th {\n",
              "        text-align: left;\n",
              "    }\n",
              "\n",
              "    .dataframe tbody tr th {\n",
              "        vertical-align: top;\n",
              "    }\n",
              "</style>\n",
              "<table border=\"1\" class=\"dataframe\">\n",
              "  <thead>\n",
              "    <tr style=\"text-align: right;\">\n",
              "      <th></th>\n",
              "      <th>0</th>\n",
              "      <th>1</th>\n",
              "    </tr>\n",
              "  </thead>\n",
              "  <tbody>\n",
              "    <tr>\n",
              "      <th>0</th>\n",
              "      <td>4666</td>\n",
              "      <td>0</td>\n",
              "    </tr>\n",
              "    <tr>\n",
              "      <th>1</th>\n",
              "      <td>335</td>\n",
              "      <td>0</td>\n",
              "    </tr>\n",
              "  </tbody>\n",
              "</table>\n",
              "</div>"
            ],
            "text/plain": [
              "      0  1\n",
              "0  4666  0\n",
              "1   335  0"
            ]
          },
          "metadata": {
            "tags": []
          },
          "execution_count": 39
        }
      ]
    },
    {
      "cell_type": "markdown",
      "metadata": {
        "id": "2ecCmIdSRguw",
        "colab_type": "text"
      },
      "source": [
        "# Exercise 2\n",
        "\n",
        "Now we know how to perform cross-validation. Try it yourself with Decision Tree.\n",
        "\n",
        "* Using **GridSearchCV** choose parameter **min_samples_leaf**. Try several values from 1 to 100.\n",
        "* Use **five**-fold cross-validation and **roc_auc** scoring. See the chosen parameters.\n",
        "* Evaluate quality metrics and look how they changed. Try to make some plots.\n",
        "\n",
        "http://scikit-learn.org/stable/modules/generated/sklearn.tree.DecisionTreeClassifier.html\n",
        "http://scikit-learn.org/stable/modules/generated/sklearn.model_selection.GridSearchCV.html"
      ]
    },
    {
      "cell_type": "code",
      "metadata": {
        "id": "0f_JsGQvRguw",
        "colab_type": "code",
        "colab": {}
      },
      "source": [
        "parameters_dt = \n",
        "dt_cv = "
      ],
      "execution_count": 0,
      "outputs": []
    },
    {
      "cell_type": "code",
      "metadata": {
        "id": "EciDu8WjRgux",
        "colab_type": "code",
        "colab": {}
      },
      "source": [
        ""
      ],
      "execution_count": 0,
      "outputs": []
    },
    {
      "cell_type": "code",
      "metadata": {
        "id": "60fSDXo7Rgux",
        "colab_type": "code",
        "colab": {}
      },
      "source": [
        "print('ROC AUC: ', roc_auc_dt_cv)\n",
        "print('PR AUC: ', pr_auc_dt_cv)\n",
        "print('F1_score: ', f1_dt_cv)"
      ],
      "execution_count": 0,
      "outputs": []
    },
    {
      "cell_type": "code",
      "metadata": {
        "id": "30szc7SWRguy",
        "colab_type": "code",
        "colab": {}
      },
      "source": [
        "# generate plots here"
      ],
      "execution_count": 0,
      "outputs": []
    },
    {
      "cell_type": "markdown",
      "metadata": {
        "id": "raCbonaXRguz",
        "colab_type": "text"
      },
      "source": [
        "# Multiclass classification"
      ]
    },
    {
      "cell_type": "markdown",
      "metadata": {
        "id": "UnMA4V91Rguz",
        "colab_type": "text"
      },
      "source": [
        "Let's have a look how multiclass tasks are treated."
      ]
    },
    {
      "cell_type": "code",
      "metadata": {
        "id": "MgxZfcduRguz",
        "colab_type": "code",
        "colab": {}
      },
      "source": [
        "# import some modules\n",
        "\n",
        "from sklearn.model_selection import train_test_split\n",
        "from sklearn.preprocessing import LabelEncoder\n",
        "\n",
        "from sklearn.base import clone\n",
        "\n",
        "from sklearn.linear_model import LogisticRegression"
      ],
      "execution_count": 0,
      "outputs": []
    },
    {
      "cell_type": "code",
      "metadata": {
        "id": "Kf9K3ypaRgu0",
        "colab_type": "code",
        "colab": {}
      },
      "source": [
        "# for ZIP-files\n",
        "import zipfile"
      ],
      "execution_count": 0,
      "outputs": []
    },
    {
      "cell_type": "markdown",
      "metadata": {
        "id": "QYuYzhKPRgu0",
        "colab_type": "text"
      },
      "source": [
        "## Load data"
      ]
    },
    {
      "cell_type": "markdown",
      "metadata": {
        "id": "7Ky3MohKRgu1",
        "colab_type": "text"
      },
      "source": [
        "We will use data from Kaggle contest *\"Otto Group\n",
        "Product Classification Challenge\"*, which was created to predict class of an item by several features.з\n",
        "\n",
        "https://www.kaggle.com/c/otto-group-product-classification-challenge\n",
        "\n",
        "Data are in ZIP, but we can load them easily"
      ]
    },
    {
      "cell_type": "code",
      "metadata": {
        "id": "cFnNfzLoRgu1",
        "colab_type": "code",
        "colab": {}
      },
      "source": [
        "with zipfile.ZipFile('data/train.csv.zip') as archive:\n",
        "    dataset = pd.read_csv(archive.open('train.csv'), index_col='id')"
      ],
      "execution_count": 0,
      "outputs": []
    },
    {
      "cell_type": "markdown",
      "metadata": {
        "id": "FPqHmPCxRgu1",
        "colab_type": "text"
      },
      "source": [
        "Data consist of the following:\n",
        "* **id** -- anonymized identifier;\n",
        "* **feat_1, ..., feat_93** -- features;\n",
        "* **target** -- actual class of an item."
      ]
    },
    {
      "cell_type": "markdown",
      "metadata": {
        "id": "ueVKaFb4Rgu1",
        "colab_type": "text"
      },
      "source": [
        "Number of objects for every class in **target**"
      ]
    },
    {
      "cell_type": "code",
      "metadata": {
        "id": "X2EcbhnoRgu1",
        "colab_type": "code",
        "outputId": "e52af37b-be25-4629-85e6-c3ecd5394b49",
        "colab": {}
      },
      "source": [
        "dataset['target'].value_counts()"
      ],
      "execution_count": 0,
      "outputs": [
        {
          "output_type": "execute_result",
          "data": {
            "text/plain": [
              "Class_2    16122\n",
              "Class_6    14135\n",
              "Class_8     8464\n",
              "Class_3     8004\n",
              "Class_9     4955\n",
              "Class_7     2839\n",
              "Class_5     2739\n",
              "Class_4     2691\n",
              "Class_1     1929\n",
              "Name: target, dtype: int64"
            ]
          },
          "metadata": {
            "tags": []
          },
          "execution_count": 43
        }
      ]
    },
    {
      "cell_type": "markdown",
      "metadata": {
        "id": "r_oPMs0iRgu2",
        "colab_type": "text"
      },
      "source": [
        "Let's see random data slice"
      ]
    },
    {
      "cell_type": "code",
      "metadata": {
        "id": "2wOgXzk8Rgu2",
        "colab_type": "code",
        "outputId": "75d60700-2cd1-4d67-c7f4-740b4cc959f0",
        "colab": {}
      },
      "source": [
        "dataset.describe().T.sample(10, random_state=42)"
      ],
      "execution_count": 0,
      "outputs": [
        {
          "output_type": "execute_result",
          "data": {
            "text/html": [
              "<div>\n",
              "<style>\n",
              "    .dataframe thead tr:only-child th {\n",
              "        text-align: right;\n",
              "    }\n",
              "\n",
              "    .dataframe thead th {\n",
              "        text-align: left;\n",
              "    }\n",
              "\n",
              "    .dataframe tbody tr th {\n",
              "        vertical-align: top;\n",
              "    }\n",
              "</style>\n",
              "<table border=\"1\" class=\"dataframe\">\n",
              "  <thead>\n",
              "    <tr style=\"text-align: right;\">\n",
              "      <th></th>\n",
              "      <th>count</th>\n",
              "      <th>mean</th>\n",
              "      <th>std</th>\n",
              "      <th>min</th>\n",
              "      <th>25%</th>\n",
              "      <th>50%</th>\n",
              "      <th>75%</th>\n",
              "      <th>max</th>\n",
              "    </tr>\n",
              "  </thead>\n",
              "  <tbody>\n",
              "    <tr>\n",
              "      <th>feat_41</th>\n",
              "      <td>61878.0</td>\n",
              "      <td>0.303468</td>\n",
              "      <td>1.085672</td>\n",
              "      <td>0.0</td>\n",
              "      <td>0.0</td>\n",
              "      <td>0.0</td>\n",
              "      <td>0.0</td>\n",
              "      <td>36.0</td>\n",
              "    </tr>\n",
              "    <tr>\n",
              "      <th>feat_23</th>\n",
              "      <td>61878.0</td>\n",
              "      <td>0.142522</td>\n",
              "      <td>0.782979</td>\n",
              "      <td>0.0</td>\n",
              "      <td>0.0</td>\n",
              "      <td>0.0</td>\n",
              "      <td>0.0</td>\n",
              "      <td>64.0</td>\n",
              "    </tr>\n",
              "    <tr>\n",
              "      <th>feat_56</th>\n",
              "      <td>61878.0</td>\n",
              "      <td>0.303775</td>\n",
              "      <td>1.925806</td>\n",
              "      <td>0.0</td>\n",
              "      <td>0.0</td>\n",
              "      <td>0.0</td>\n",
              "      <td>0.0</td>\n",
              "      <td>62.0</td>\n",
              "    </tr>\n",
              "    <tr>\n",
              "      <th>feat_73</th>\n",
              "      <td>61878.0</td>\n",
              "      <td>0.591050</td>\n",
              "      <td>5.783233</td>\n",
              "      <td>0.0</td>\n",
              "      <td>0.0</td>\n",
              "      <td>0.0</td>\n",
              "      <td>0.0</td>\n",
              "      <td>352.0</td>\n",
              "    </tr>\n",
              "    <tr>\n",
              "      <th>feat_1</th>\n",
              "      <td>61878.0</td>\n",
              "      <td>0.386680</td>\n",
              "      <td>1.525330</td>\n",
              "      <td>0.0</td>\n",
              "      <td>0.0</td>\n",
              "      <td>0.0</td>\n",
              "      <td>0.0</td>\n",
              "      <td>61.0</td>\n",
              "    </tr>\n",
              "    <tr>\n",
              "      <th>feat_27</th>\n",
              "      <td>61878.0</td>\n",
              "      <td>0.696613</td>\n",
              "      <td>2.873222</td>\n",
              "      <td>0.0</td>\n",
              "      <td>0.0</td>\n",
              "      <td>0.0</td>\n",
              "      <td>0.0</td>\n",
              "      <td>123.0</td>\n",
              "    </tr>\n",
              "    <tr>\n",
              "      <th>feat_40</th>\n",
              "      <td>61878.0</td>\n",
              "      <td>1.653059</td>\n",
              "      <td>3.299798</td>\n",
              "      <td>0.0</td>\n",
              "      <td>0.0</td>\n",
              "      <td>0.0</td>\n",
              "      <td>2.0</td>\n",
              "      <td>41.0</td>\n",
              "    </tr>\n",
              "    <tr>\n",
              "      <th>feat_68</th>\n",
              "      <td>61878.0</td>\n",
              "      <td>0.392902</td>\n",
              "      <td>1.761054</td>\n",
              "      <td>0.0</td>\n",
              "      <td>0.0</td>\n",
              "      <td>0.0</td>\n",
              "      <td>0.0</td>\n",
              "      <td>109.0</td>\n",
              "    </tr>\n",
              "    <tr>\n",
              "      <th>feat_11</th>\n",
              "      <td>61878.0</td>\n",
              "      <td>1.252869</td>\n",
              "      <td>3.042333</td>\n",
              "      <td>0.0</td>\n",
              "      <td>0.0</td>\n",
              "      <td>0.0</td>\n",
              "      <td>1.0</td>\n",
              "      <td>38.0</td>\n",
              "    </tr>\n",
              "    <tr>\n",
              "      <th>feat_45</th>\n",
              "      <td>61878.0</td>\n",
              "      <td>0.238130</td>\n",
              "      <td>2.587131</td>\n",
              "      <td>0.0</td>\n",
              "      <td>0.0</td>\n",
              "      <td>0.0</td>\n",
              "      <td>0.0</td>\n",
              "      <td>80.0</td>\n",
              "    </tr>\n",
              "  </tbody>\n",
              "</table>\n",
              "</div>"
            ],
            "text/plain": [
              "           count      mean       std  min  25%  50%  75%    max\n",
              "feat_41  61878.0  0.303468  1.085672  0.0  0.0  0.0  0.0   36.0\n",
              "feat_23  61878.0  0.142522  0.782979  0.0  0.0  0.0  0.0   64.0\n",
              "feat_56  61878.0  0.303775  1.925806  0.0  0.0  0.0  0.0   62.0\n",
              "feat_73  61878.0  0.591050  5.783233  0.0  0.0  0.0  0.0  352.0\n",
              "feat_1   61878.0  0.386680  1.525330  0.0  0.0  0.0  0.0   61.0\n",
              "feat_27  61878.0  0.696613  2.873222  0.0  0.0  0.0  0.0  123.0\n",
              "feat_40  61878.0  1.653059  3.299798  0.0  0.0  0.0  2.0   41.0\n",
              "feat_68  61878.0  0.392902  1.761054  0.0  0.0  0.0  0.0  109.0\n",
              "feat_11  61878.0  1.252869  3.042333  0.0  0.0  0.0  1.0   38.0\n",
              "feat_45  61878.0  0.238130  2.587131  0.0  0.0  0.0  0.0   80.0"
            ]
          },
          "metadata": {
            "tags": []
          },
          "execution_count": 44
        }
      ]
    },
    {
      "cell_type": "markdown",
      "metadata": {
        "id": "GgyHdvdFRgu3",
        "colab_type": "text"
      },
      "source": [
        "Divide data into input and output, transform labels from strings to numbers. **LabelEncoder** allows us to perform that transform nad obtain numbers from $0$ to $K-1$, where $K$ is the number of classes."
      ]
    },
    {
      "cell_type": "code",
      "metadata": {
        "id": "vefxrtrBRgu3",
        "colab_type": "code",
        "colab": {}
      },
      "source": [
        "X = np.asarray(dataset.drop('target', axis=1), dtype=float)\n",
        "target = dataset['target']\n",
        "\n",
        "label_encoder = LabelEncoder().fit(target)\n",
        "y = label_encoder.transform(target)"
      ],
      "execution_count": 0,
      "outputs": []
    },
    {
      "cell_type": "markdown",
      "metadata": {
        "id": "0KysEGAkRgu3",
        "colab_type": "text"
      },
      "source": [
        "Split data into training sample and test sample"
      ]
    },
    {
      "cell_type": "code",
      "metadata": {
        "id": "QWEn1KRGRgu4",
        "colab_type": "code",
        "colab": {}
      },
      "source": [
        "split = train_test_split(X, y, test_size=0.5,\n",
        "                         random_state=42, stratify=y)\n",
        "train_X, test_X, train_y, test_y = split"
      ],
      "execution_count": 0,
      "outputs": []
    }
  ]
}