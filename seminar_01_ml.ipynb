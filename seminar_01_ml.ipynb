{
  "nbformat": 4,
  "nbformat_minor": 0,
  "metadata": {
    "_change_revision": 36,
    "_is_fork": false,
    "kernelspec": {
      "display_name": "Python 3",
      "language": "python",
      "name": "python3"
    },
    "language_info": {
      "codemirror_mode": {
        "name": "ipython",
        "version": 3
      },
      "file_extension": ".py",
      "mimetype": "text/x-python",
      "name": "python",
      "nbconvert_exporter": "python",
      "pygments_lexer": "ipython3",
      "version": "3.7.1"
    },
    "colab": {
      "name": "seminar_01_ml.ipynb",
      "provenance": [],
      "include_colab_link": true
    }
  },
  "cells": [
    {
      "cell_type": "markdown",
      "metadata": {
        "id": "view-in-github",
        "colab_type": "text"
      },
      "source": [
        "<a href=\"https://colab.research.google.com/github/IlyaTrofimov/ML2020-Skoltech/blob/master/seminar_01_ml.ipynb\" target=\"_parent\"><img src=\"https://colab.research.google.com/assets/colab-badge.svg\" alt=\"Open In Colab\"/></a>"
      ]
    },
    {
      "cell_type": "markdown",
      "metadata": {
        "id": "gfg1uBr_1HQY",
        "colab_type": "text"
      },
      "source": [
        "# Seminar 1. Machine learning on Titanic data\n",
        "\n",
        "The notebook provides an intro to the exploratory analysis of the data, data preprocessing and application of machine learning methods.\n",
        "\n",
        "The notebook is based on kaggle kernel \"Titanic: Machine Learning from Disaster\"  https://www.kaggle.com/omarelgabry/a-journey-through-titanic by Omar El Gabry.\n",
        "Data is from a toy competition on kaggle named Titanic.\n",
        "The goal of the competition is to predict who survived and who died during the sinking of the RMS Titanic."
      ]
    },
    {
      "cell_type": "markdown",
      "metadata": {
        "id": "2h-hj6pc1HQe",
        "colab_type": "text"
      },
      "source": [
        "### Documentation to go through:\n",
        "\n",
        "* https://docs.python.org/3/\n",
        "* https://pandas.pydata.org/pandas-docs\n",
        "* https://matplotlib.org/contents.html\n",
        "* https://docs.scipy.org/doc/\n",
        "* http://scikit-learn.org/stable/documentation.html"
      ]
    },
    {
      "cell_type": "markdown",
      "metadata": {
        "id": "kp1Z2eEF1HQh",
        "colab_type": "text"
      },
      "source": [
        "### Some additional info:\n",
        "\n",
        "\n",
        "* http://www.scipy-lectures.org/\n",
        "* https://www.kaggle.com/\n",
        "* https://pydata.org/"
      ]
    },
    {
      "cell_type": "code",
      "metadata": {
        "_cell_guid": "cfdaacbc-23a3-423d-8d4d-120939ac7383",
        "id": "o92gvsKS1HQk",
        "colab_type": "code",
        "colab": {}
      },
      "source": [
        "# importing data processing tools: pandas and numpy\n",
        "import numpy as np\n",
        "import pandas as pd\n",
        "from pandas import Series, DataFrame"
      ],
      "execution_count": 0,
      "outputs": []
    },
    {
      "cell_type": "markdown",
      "metadata": {
        "id": "uAmd-Fnm1HQv",
        "colab_type": "text"
      },
      "source": [
        "# Load data"
      ]
    },
    {
      "cell_type": "code",
      "metadata": {
        "id": "ICNKKCdk1HQw",
        "colab_type": "code",
        "colab": {
          "base_uri": "https://localhost:8080/",
          "height": 119
        },
        "outputId": "bf1a8c35-4fc9-4071-d24b-33a21c6de8e1"
      },
      "source": [
        "!git clone https://github.com/IlyaTrofimov/ML2020-Skoltech.git"
      ],
      "execution_count": 14,
      "outputs": [
        {
          "output_type": "stream",
          "text": [
            "Cloning into 'ML2020-Skoltech'...\n",
            "remote: Enumerating objects: 13, done.\u001b[K\n",
            "remote: Counting objects: 100% (13/13), done.\u001b[K\n",
            "remote: Compressing objects: 100% (9/9), done.\u001b[K\n",
            "remote: Total 13 (delta 0), reused 7 (delta 0), pack-reused 0\u001b[K\n",
            "Unpacking objects: 100% (13/13), done.\n"
          ],
          "name": "stdout"
        }
      ]
    },
    {
      "cell_type": "code",
      "metadata": {
        "id": "Hjngy_LJ80OM",
        "colab_type": "code",
        "colab": {
          "base_uri": "https://localhost:8080/",
          "height": 34
        },
        "outputId": "dcbdddeb-e074-4c99-8a73-494b927d8f4e"
      },
      "source": [
        "!ls ML2020-Skoltech/titanic/"
      ],
      "execution_count": 16,
      "outputs": [
        {
          "output_type": "stream",
          "text": [
            "gender_submission.csv  test.csv  train.csv\n"
          ],
          "name": "stdout"
        }
      ]
    },
    {
      "cell_type": "code",
      "metadata": {
        "_cell_guid": "3ab4c525-a5cb-4183-9468-c1dd005c4c78",
        "id": "k279ske91HQ5",
        "colab_type": "code",
        "colab": {}
      },
      "source": [
        "# get titanic files as a DataFrame\n",
        "titanic_dataframe = pd.read_csv(\"ML2020-Skoltech/titanic//train.csv\", index_col='PassengerId')"
      ],
      "execution_count": 0,
      "outputs": []
    },
    {
      "cell_type": "markdown",
      "metadata": {
        "id": "ON6nxXgb1HQ9",
        "colab_type": "text"
      },
      "source": [
        "# Look through the data"
      ]
    },
    {
      "cell_type": "code",
      "metadata": {
        "id": "oS5FDRfM1HQ-",
        "colab_type": "code",
        "colab": {
          "base_uri": "https://localhost:8080/",
          "height": 527
        },
        "outputId": "4b6adbe3-5ed1-40e0-8130-f4cce4d16c9e"
      },
      "source": [
        "# preview the data\n",
        "titanic_dataframe.head()"
      ],
      "execution_count": 18,
      "outputs": [
        {
          "output_type": "execute_result",
          "data": {
            "text/html": [
              "<div>\n",
              "<style scoped>\n",
              "    .dataframe tbody tr th:only-of-type {\n",
              "        vertical-align: middle;\n",
              "    }\n",
              "\n",
              "    .dataframe tbody tr th {\n",
              "        vertical-align: top;\n",
              "    }\n",
              "\n",
              "    .dataframe thead th {\n",
              "        text-align: right;\n",
              "    }\n",
              "</style>\n",
              "<table border=\"1\" class=\"dataframe\">\n",
              "  <thead>\n",
              "    <tr style=\"text-align: right;\">\n",
              "      <th></th>\n",
              "      <th>Survived</th>\n",
              "      <th>Pclass</th>\n",
              "      <th>Name</th>\n",
              "      <th>Sex</th>\n",
              "      <th>Age</th>\n",
              "      <th>SibSp</th>\n",
              "      <th>Parch</th>\n",
              "      <th>Ticket</th>\n",
              "      <th>Fare</th>\n",
              "      <th>Cabin</th>\n",
              "      <th>Embarked</th>\n",
              "    </tr>\n",
              "    <tr>\n",
              "      <th>PassengerId</th>\n",
              "      <th></th>\n",
              "      <th></th>\n",
              "      <th></th>\n",
              "      <th></th>\n",
              "      <th></th>\n",
              "      <th></th>\n",
              "      <th></th>\n",
              "      <th></th>\n",
              "      <th></th>\n",
              "      <th></th>\n",
              "      <th></th>\n",
              "    </tr>\n",
              "  </thead>\n",
              "  <tbody>\n",
              "    <tr>\n",
              "      <th>1</th>\n",
              "      <td>0</td>\n",
              "      <td>3</td>\n",
              "      <td>Braund, Mr. Owen Harris</td>\n",
              "      <td>male</td>\n",
              "      <td>22.0</td>\n",
              "      <td>1</td>\n",
              "      <td>0</td>\n",
              "      <td>A/5 21171</td>\n",
              "      <td>7.2500</td>\n",
              "      <td>NaN</td>\n",
              "      <td>S</td>\n",
              "    </tr>\n",
              "    <tr>\n",
              "      <th>2</th>\n",
              "      <td>1</td>\n",
              "      <td>1</td>\n",
              "      <td>Cumings, Mrs. John Bradley (Florence Briggs Th...</td>\n",
              "      <td>female</td>\n",
              "      <td>38.0</td>\n",
              "      <td>1</td>\n",
              "      <td>0</td>\n",
              "      <td>PC 17599</td>\n",
              "      <td>71.2833</td>\n",
              "      <td>C85</td>\n",
              "      <td>C</td>\n",
              "    </tr>\n",
              "    <tr>\n",
              "      <th>3</th>\n",
              "      <td>1</td>\n",
              "      <td>3</td>\n",
              "      <td>Heikkinen, Miss. Laina</td>\n",
              "      <td>female</td>\n",
              "      <td>26.0</td>\n",
              "      <td>0</td>\n",
              "      <td>0</td>\n",
              "      <td>STON/O2. 3101282</td>\n",
              "      <td>7.9250</td>\n",
              "      <td>NaN</td>\n",
              "      <td>S</td>\n",
              "    </tr>\n",
              "    <tr>\n",
              "      <th>4</th>\n",
              "      <td>1</td>\n",
              "      <td>1</td>\n",
              "      <td>Futrelle, Mrs. Jacques Heath (Lily May Peel)</td>\n",
              "      <td>female</td>\n",
              "      <td>35.0</td>\n",
              "      <td>1</td>\n",
              "      <td>0</td>\n",
              "      <td>113803</td>\n",
              "      <td>53.1000</td>\n",
              "      <td>C123</td>\n",
              "      <td>S</td>\n",
              "    </tr>\n",
              "    <tr>\n",
              "      <th>5</th>\n",
              "      <td>0</td>\n",
              "      <td>3</td>\n",
              "      <td>Allen, Mr. William Henry</td>\n",
              "      <td>male</td>\n",
              "      <td>35.0</td>\n",
              "      <td>0</td>\n",
              "      <td>0</td>\n",
              "      <td>373450</td>\n",
              "      <td>8.0500</td>\n",
              "      <td>NaN</td>\n",
              "      <td>S</td>\n",
              "    </tr>\n",
              "  </tbody>\n",
              "</table>\n",
              "</div>"
            ],
            "text/plain": [
              "             Survived  Pclass  ... Cabin Embarked\n",
              "PassengerId                    ...               \n",
              "1                   0       3  ...   NaN        S\n",
              "2                   1       1  ...   C85        C\n",
              "3                   1       3  ...   NaN        S\n",
              "4                   1       1  ...  C123        S\n",
              "5                   0       3  ...   NaN        S\n",
              "\n",
              "[5 rows x 11 columns]"
            ]
          },
          "metadata": {
            "tags": []
          },
          "execution_count": 18
        }
      ]
    },
    {
      "cell_type": "code",
      "metadata": {
        "id": "BilNj9ff1HRB",
        "colab_type": "code",
        "colab": {
          "base_uri": "https://localhost:8080/",
          "height": 88
        },
        "outputId": "ad20562a-2723-490b-c93d-c2a49d9bf6bc"
      },
      "source": [
        "# list the features\n",
        "print(titanic_dataframe.keys())"
      ],
      "execution_count": 19,
      "outputs": [
        {
          "output_type": "stream",
          "text": [
            "Index(['Survived', 'Pclass', 'Name', 'Sex', 'Age', 'SibSp', 'Parch', 'Ticket',\n",
            "       'Fare', 'Cabin', 'Embarked'],\n",
            "      dtype='object')\n"
          ],
          "name": "stdout"
        }
      ]
    },
    {
      "cell_type": "code",
      "metadata": {
        "id": "xJOMCoFQ1HRE",
        "colab_type": "code",
        "colab": {
          "base_uri": "https://localhost:8080/",
          "height": 238
        },
        "outputId": "fc6f6894-763c-4497-9742-56d93a8f29b4"
      },
      "source": [
        "# column selection by name\n",
        "titanic_dataframe['Age']"
      ],
      "execution_count": 20,
      "outputs": [
        {
          "output_type": "execute_result",
          "data": {
            "text/plain": [
              "PassengerId\n",
              "1      22.0\n",
              "2      38.0\n",
              "3      26.0\n",
              "4      35.0\n",
              "5      35.0\n",
              "       ... \n",
              "887    27.0\n",
              "888    19.0\n",
              "889     NaN\n",
              "890    26.0\n",
              "891    32.0\n",
              "Name: Age, Length: 891, dtype: float64"
            ]
          },
          "metadata": {
            "tags": []
          },
          "execution_count": 20
        }
      ]
    },
    {
      "cell_type": "code",
      "metadata": {
        "id": "jQGC9ozw1HRI",
        "colab_type": "code",
        "colab": {
          "base_uri": "https://localhost:8080/",
          "height": 221
        },
        "outputId": "43555fd5-3d86-4d2e-a680-e9556514b035"
      },
      "source": [
        "# row selection by name\n",
        "titanic_dataframe.loc[1]"
      ],
      "execution_count": 21,
      "outputs": [
        {
          "output_type": "execute_result",
          "data": {
            "text/plain": [
              "Survived                          0\n",
              "Pclass                            3\n",
              "Name        Braund, Mr. Owen Harris\n",
              "Sex                            male\n",
              "Age                              22\n",
              "SibSp                             1\n",
              "Parch                             0\n",
              "Ticket                    A/5 21171\n",
              "Fare                           7.25\n",
              "Cabin                           NaN\n",
              "Embarked                          S\n",
              "Name: 1, dtype: object"
            ]
          },
          "metadata": {
            "tags": []
          },
          "execution_count": 21
        }
      ]
    },
    {
      "cell_type": "code",
      "metadata": {
        "id": "ErR8clFw1HRM",
        "colab_type": "code",
        "colab": {
          "base_uri": "https://localhost:8080/",
          "height": 238
        },
        "outputId": "5ddb8d3e-42b5-4022-f3a7-8bdcee746565"
      },
      "source": [
        "# column selection by index\n",
        "titanic_dataframe.iloc[:, 0]"
      ],
      "execution_count": 22,
      "outputs": [
        {
          "output_type": "execute_result",
          "data": {
            "text/plain": [
              "PassengerId\n",
              "1      0\n",
              "2      1\n",
              "3      1\n",
              "4      1\n",
              "5      0\n",
              "      ..\n",
              "887    0\n",
              "888    1\n",
              "889    0\n",
              "890    1\n",
              "891    0\n",
              "Name: Survived, Length: 891, dtype: int64"
            ]
          },
          "metadata": {
            "tags": []
          },
          "execution_count": 22
        }
      ]
    },
    {
      "cell_type": "code",
      "metadata": {
        "id": "q5TGpC1x1HRP",
        "colab_type": "code",
        "colab": {
          "base_uri": "https://localhost:8080/",
          "height": 221
        },
        "outputId": "4698200c-4f95-471d-bf82-702f8fac7bf0"
      },
      "source": [
        "# row selection by index\n",
        "titanic_dataframe.iloc[0, :]"
      ],
      "execution_count": 23,
      "outputs": [
        {
          "output_type": "execute_result",
          "data": {
            "text/plain": [
              "Survived                          0\n",
              "Pclass                            3\n",
              "Name        Braund, Mr. Owen Harris\n",
              "Sex                            male\n",
              "Age                              22\n",
              "SibSp                             1\n",
              "Parch                             0\n",
              "Ticket                    A/5 21171\n",
              "Fare                           7.25\n",
              "Cabin                           NaN\n",
              "Embarked                          S\n",
              "Name: 1, dtype: object"
            ]
          },
          "metadata": {
            "tags": []
          },
          "execution_count": 23
        }
      ]
    },
    {
      "cell_type": "markdown",
      "metadata": {
        "id": "zKgeA5Ig1HRS",
        "colab_type": "text"
      },
      "source": [
        "### Hints and tips\n",
        "\n",
        "You can use ```%time``` or ```tqdm``` to track the code timing.\n",
        "\n",
        "Note that ```pandas``` is column oriented data structure.\n"
      ]
    },
    {
      "cell_type": "code",
      "metadata": {
        "id": "Yno_3q261HRT",
        "colab_type": "code",
        "colab": {
          "base_uri": "https://localhost:8080/",
          "height": 68
        },
        "outputId": "2788fdee-94f9-4d03-de20-77d41cf8d9e6"
      },
      "source": [
        "%time titanic_dataframe['Fare'].mean()"
      ],
      "execution_count": 29,
      "outputs": [
        {
          "output_type": "stream",
          "text": [
            "CPU times: user 265 µs, sys: 0 ns, total: 265 µs\n",
            "Wall time: 243 µs\n"
          ],
          "name": "stdout"
        },
        {
          "output_type": "execute_result",
          "data": {
            "text/plain": [
              "32.2042079685746"
            ]
          },
          "metadata": {
            "tags": []
          },
          "execution_count": 29
        }
      ]
    },
    {
      "cell_type": "code",
      "metadata": {
        "id": "W3JwPm601HRW",
        "colab_type": "code",
        "colab": {
          "base_uri": "https://localhost:8080/",
          "height": 68
        },
        "outputId": "d32b2adf-a9c1-473e-b60f-318e28510205"
      },
      "source": [
        "data_titanic_transpose = titanic_dataframe.T\n",
        "%time data_titanic_transpose.loc['Fare'].mean()"
      ],
      "execution_count": 28,
      "outputs": [
        {
          "output_type": "stream",
          "text": [
            "CPU times: user 666 µs, sys: 0 ns, total: 666 µs\n",
            "Wall time: 674 µs\n"
          ],
          "name": "stdout"
        },
        {
          "output_type": "execute_result",
          "data": {
            "text/plain": [
              "32.2042079685746"
            ]
          },
          "metadata": {
            "tags": []
          },
          "execution_count": 28
        }
      ]
    },
    {
      "cell_type": "code",
      "metadata": {
        "id": "2mbM1pqM9sQf",
        "colab_type": "code",
        "colab": {
          "base_uri": "https://localhost:8080/",
          "height": 34
        },
        "outputId": "6fc475a6-7855-4a2e-e23d-4b152eee2fd1"
      },
      "source": [
        "from tqdm import tqdm\n",
        "for i in tqdm(range(100000000)):\n",
        "  pass"
      ],
      "execution_count": 32,
      "outputs": [
        {
          "output_type": "stream",
          "text": [
            "100%|██████████| 100000000/100000000 [00:21<00:00, 4612386.18it/s]\n"
          ],
          "name": "stderr"
        }
      ]
    },
    {
      "cell_type": "markdown",
      "metadata": {
        "id": "_EenKTD11HRZ",
        "colab_type": "text"
      },
      "source": [
        "## Data Dictionary\n",
        "\n",
        "| Variable | Definition | Key |\n",
        "| ------------- |:-------------|: -----|\n",
        "| survival | Survival   | 0 = No, 1 = Yes | \n",
        "| pclass   | Ticket class | 1 = 1st, 2 = 2nd, 3 = 3rd |\n",
        "| sex | Sex | |\n",
        "| Age | Age in years | |\n",
        "| sibsp | # of siblings / spouses aboard the Titanic | |\n",
        "| parch | # of parents / children aboard the Titanic | |\n",
        "| ticket | Ticket number  | |\n",
        "| fare   | Passenger fare | |\n",
        "| cabin  | Cabin number | |\n",
        "| embarked | Port of Embarkation | C = Cherbourg, Q = Queenstown, S = Southampton |"
      ]
    },
    {
      "cell_type": "code",
      "metadata": {
        "_cell_guid": "86179af8-3cb4-4661-84ea-addd2c7679d4",
        "id": "Io0iKNg-1HRZ",
        "colab_type": "code",
        "colab": {
          "base_uri": "https://localhost:8080/",
          "height": 289
        },
        "outputId": "7977a59d-d753-4e51-bb11-7d1de8545752"
      },
      "source": [
        "titanic_dataframe.info()"
      ],
      "execution_count": 33,
      "outputs": [
        {
          "output_type": "stream",
          "text": [
            "<class 'pandas.core.frame.DataFrame'>\n",
            "Int64Index: 891 entries, 1 to 891\n",
            "Data columns (total 11 columns):\n",
            "Survived    891 non-null int64\n",
            "Pclass      891 non-null int64\n",
            "Name        891 non-null object\n",
            "Sex         891 non-null object\n",
            "Age         714 non-null float64\n",
            "SibSp       891 non-null int64\n",
            "Parch       891 non-null int64\n",
            "Ticket      891 non-null object\n",
            "Fare        891 non-null float64\n",
            "Cabin       204 non-null object\n",
            "Embarked    889 non-null object\n",
            "dtypes: float64(2), int64(4), object(5)\n",
            "memory usage: 123.5+ KB\n"
          ],
          "name": "stdout"
        }
      ]
    },
    {
      "cell_type": "code",
      "metadata": {
        "id": "bbmyz2Xf-BA3",
        "colab_type": "code",
        "colab": {
          "base_uri": "https://localhost:8080/",
          "height": 297
        },
        "outputId": "c8ae4aa4-bf5a-4203-bc7f-0349a890b0cf"
      },
      "source": [
        "titanic_dataframe.describe()"
      ],
      "execution_count": 34,
      "outputs": [
        {
          "output_type": "execute_result",
          "data": {
            "text/html": [
              "<div>\n",
              "<style scoped>\n",
              "    .dataframe tbody tr th:only-of-type {\n",
              "        vertical-align: middle;\n",
              "    }\n",
              "\n",
              "    .dataframe tbody tr th {\n",
              "        vertical-align: top;\n",
              "    }\n",
              "\n",
              "    .dataframe thead th {\n",
              "        text-align: right;\n",
              "    }\n",
              "</style>\n",
              "<table border=\"1\" class=\"dataframe\">\n",
              "  <thead>\n",
              "    <tr style=\"text-align: right;\">\n",
              "      <th></th>\n",
              "      <th>Survived</th>\n",
              "      <th>Pclass</th>\n",
              "      <th>Age</th>\n",
              "      <th>SibSp</th>\n",
              "      <th>Parch</th>\n",
              "      <th>Fare</th>\n",
              "    </tr>\n",
              "  </thead>\n",
              "  <tbody>\n",
              "    <tr>\n",
              "      <th>count</th>\n",
              "      <td>891.000000</td>\n",
              "      <td>891.000000</td>\n",
              "      <td>714.000000</td>\n",
              "      <td>891.000000</td>\n",
              "      <td>891.000000</td>\n",
              "      <td>891.000000</td>\n",
              "    </tr>\n",
              "    <tr>\n",
              "      <th>mean</th>\n",
              "      <td>0.383838</td>\n",
              "      <td>2.308642</td>\n",
              "      <td>29.699118</td>\n",
              "      <td>0.523008</td>\n",
              "      <td>0.381594</td>\n",
              "      <td>32.204208</td>\n",
              "    </tr>\n",
              "    <tr>\n",
              "      <th>std</th>\n",
              "      <td>0.486592</td>\n",
              "      <td>0.836071</td>\n",
              "      <td>14.526497</td>\n",
              "      <td>1.102743</td>\n",
              "      <td>0.806057</td>\n",
              "      <td>49.693429</td>\n",
              "    </tr>\n",
              "    <tr>\n",
              "      <th>min</th>\n",
              "      <td>0.000000</td>\n",
              "      <td>1.000000</td>\n",
              "      <td>0.420000</td>\n",
              "      <td>0.000000</td>\n",
              "      <td>0.000000</td>\n",
              "      <td>0.000000</td>\n",
              "    </tr>\n",
              "    <tr>\n",
              "      <th>25%</th>\n",
              "      <td>0.000000</td>\n",
              "      <td>2.000000</td>\n",
              "      <td>20.125000</td>\n",
              "      <td>0.000000</td>\n",
              "      <td>0.000000</td>\n",
              "      <td>7.910400</td>\n",
              "    </tr>\n",
              "    <tr>\n",
              "      <th>50%</th>\n",
              "      <td>0.000000</td>\n",
              "      <td>3.000000</td>\n",
              "      <td>28.000000</td>\n",
              "      <td>0.000000</td>\n",
              "      <td>0.000000</td>\n",
              "      <td>14.454200</td>\n",
              "    </tr>\n",
              "    <tr>\n",
              "      <th>75%</th>\n",
              "      <td>1.000000</td>\n",
              "      <td>3.000000</td>\n",
              "      <td>38.000000</td>\n",
              "      <td>1.000000</td>\n",
              "      <td>0.000000</td>\n",
              "      <td>31.000000</td>\n",
              "    </tr>\n",
              "    <tr>\n",
              "      <th>max</th>\n",
              "      <td>1.000000</td>\n",
              "      <td>3.000000</td>\n",
              "      <td>80.000000</td>\n",
              "      <td>8.000000</td>\n",
              "      <td>6.000000</td>\n",
              "      <td>512.329200</td>\n",
              "    </tr>\n",
              "  </tbody>\n",
              "</table>\n",
              "</div>"
            ],
            "text/plain": [
              "         Survived      Pclass         Age       SibSp       Parch        Fare\n",
              "count  891.000000  891.000000  714.000000  891.000000  891.000000  891.000000\n",
              "mean     0.383838    2.308642   29.699118    0.523008    0.381594   32.204208\n",
              "std      0.486592    0.836071   14.526497    1.102743    0.806057   49.693429\n",
              "min      0.000000    1.000000    0.420000    0.000000    0.000000    0.000000\n",
              "25%      0.000000    2.000000   20.125000    0.000000    0.000000    7.910400\n",
              "50%      0.000000    3.000000   28.000000    0.000000    0.000000   14.454200\n",
              "75%      1.000000    3.000000   38.000000    1.000000    0.000000   31.000000\n",
              "max      1.000000    3.000000   80.000000    8.000000    6.000000  512.329200"
            ]
          },
          "metadata": {
            "tags": []
          },
          "execution_count": 34
        }
      ]
    },
    {
      "cell_type": "markdown",
      "metadata": {
        "id": "LXjweLGN1HRb",
        "colab_type": "text"
      },
      "source": [
        "### Hints and tips\n",
        "\n",
        "Write ```?``` after the function you are interested in or just press ``` Shift + Tab```  for the function short referense. \n",
        "\n",
        "Double ``` Shift + Tab``` will expand to the full reference."
      ]
    },
    {
      "cell_type": "code",
      "metadata": {
        "id": "UAZHGQq-1HRc",
        "colab_type": "code",
        "colab": {}
      },
      "source": [
        "# call information for the function \n",
        "titanic_dataframe.drop?"
      ],
      "execution_count": 0,
      "outputs": []
    },
    {
      "cell_type": "code",
      "metadata": {
        "_cell_guid": "7faffa7c-9776-43fb-9c01-786630f237ab",
        "id": "weX-LhbD1HRd",
        "colab_type": "code",
        "colab": {
          "base_uri": "https://localhost:8080/",
          "height": 255
        },
        "outputId": "1e60003f-f16f-4655-9e81-1344b229752b"
      },
      "source": [
        "# drop unnecessary columns, these columns won't be useful in analysis and prediction\n",
        "titanic_dataframe.drop(['Name','Ticket'], axis=1, inplace=True)\n",
        "titanic_dataframe.info()"
      ],
      "execution_count": 36,
      "outputs": [
        {
          "output_type": "stream",
          "text": [
            "<class 'pandas.core.frame.DataFrame'>\n",
            "Int64Index: 891 entries, 1 to 891\n",
            "Data columns (total 9 columns):\n",
            "Survived    891 non-null int64\n",
            "Pclass      891 non-null int64\n",
            "Sex         891 non-null object\n",
            "Age         714 non-null float64\n",
            "SibSp       891 non-null int64\n",
            "Parch       891 non-null int64\n",
            "Fare        891 non-null float64\n",
            "Cabin       204 non-null object\n",
            "Embarked    889 non-null object\n",
            "dtypes: float64(2), int64(4), object(3)\n",
            "memory usage: 109.6+ KB\n"
          ],
          "name": "stdout"
        }
      ]
    },
    {
      "cell_type": "code",
      "metadata": {
        "_cell_guid": "ef0f0c9d-6b45-4cb0-9026-86b764084398",
        "id": "jwlMWtVY1HRh",
        "colab_type": "code",
        "colab": {
          "base_uri": "https://localhost:8080/",
          "height": 170
        },
        "outputId": "2f539c6f-10c7-4831-90f0-752940efd6db"
      },
      "source": [
        "for column_name in titanic_dataframe.columns:\n",
        "    print(column_name, 'null', titanic_dataframe[column_name].isnull().sum())\n",
        "\n",
        "# It has a lot of NaN values, so it won't cause a remarkable impact on prediction\n",
        "titanic_dataframe.drop(\"Cabin\", axis=1, inplace=True)"
      ],
      "execution_count": 37,
      "outputs": [
        {
          "output_type": "stream",
          "text": [
            "Survived null 0\n",
            "Pclass null 0\n",
            "Sex null 0\n",
            "Age null 177\n",
            "SibSp null 0\n",
            "Parch null 0\n",
            "Fare null 0\n",
            "Cabin null 687\n",
            "Embarked null 2\n"
          ],
          "name": "stdout"
        }
      ]
    },
    {
      "cell_type": "code",
      "metadata": {
        "id": "jy1a0xw21HRj",
        "colab_type": "code",
        "colab": {
          "base_uri": "https://localhost:8080/",
          "height": 153
        },
        "outputId": "f9c5eb19-26cd-49f4-e69a-b55b2c93e95c"
      },
      "source": [
        "# Count various embarked values\n",
        "print(titanic_dataframe[\"Embarked\"].value_counts())\n",
        "\n",
        "# Fill the two missing values with the most occurred value, which is \"S\".\n",
        "titanic_dataframe[\"Embarked\"] = titanic_dataframe[\"Embarked\"].fillna(\"S\")\n",
        "print(titanic_dataframe[\"Embarked\"].value_counts())"
      ],
      "execution_count": 38,
      "outputs": [
        {
          "output_type": "stream",
          "text": [
            "S    644\n",
            "C    168\n",
            "Q     77\n",
            "Name: Embarked, dtype: int64\n",
            "S    646\n",
            "C    168\n",
            "Q     77\n",
            "Name: Embarked, dtype: int64\n"
          ],
          "name": "stdout"
        }
      ]
    },
    {
      "cell_type": "markdown",
      "metadata": {
        "id": "eRqxDkjJ1HRn",
        "colab_type": "text"
      },
      "source": [
        "### Tasks:\n",
        "\n",
        "1. What is the mean value and stds of ages for every passanger class?\n",
        "2. In what port of embarked the absolute difference between the amount men and women was the greatest?\n",
        "3. What is a number of NaN values in every column?\n",
        "4. Replace NaN values in age with median value and calculate the std value."
      ]
    },
    {
      "cell_type": "markdown",
      "metadata": {
        "id": "Xkem8Wmd1HRn",
        "colab_type": "text"
      },
      "source": [
        "# Plotting"
      ]
    },
    {
      "cell_type": "code",
      "metadata": {
        "id": "6TTFG_MU1HRo",
        "colab_type": "code",
        "colab": {}
      },
      "source": [
        "# visualization tools: matplotlib, seaborn\n",
        "import matplotlib.pyplot as plt\n",
        "import seaborn as sns\n",
        "sns.set_style('whitegrid')\n",
        "%matplotlib inline"
      ],
      "execution_count": 0,
      "outputs": []
    },
    {
      "cell_type": "code",
      "metadata": {
        "id": "bf38RJzh1HRr",
        "colab_type": "code",
        "colab": {
          "base_uri": "https://localhost:8080/",
          "height": 296
        },
        "outputId": "f9bdc999-e6f5-4b77-9b4a-398f9dde066b"
      },
      "source": [
        "# Simple plot\n",
        "x = titanic_dataframe['Age']\n",
        "y = titanic_dataframe['Fare']\n",
        "plt.plot(x, y, 'o')\n",
        "plt.xlabel('Age')\n",
        "plt.ylabel('Fare')"
      ],
      "execution_count": 40,
      "outputs": [
        {
          "output_type": "execute_result",
          "data": {
            "text/plain": [
              "Text(0, 0.5, 'Fare')"
            ]
          },
          "metadata": {
            "tags": []
          },
          "execution_count": 40
        },
        {
          "output_type": "display_data",
          "data": {
            "image/png": "[encoded data removed]",
            "text/plain": [
              "<Figure size 432x288 with 1 Axes>"
            ]
          },
          "metadata": {
            "tags": []
          }
        }
      ]
    },
    {
      "cell_type": "markdown",
      "metadata": {
        "id": "NC1LFhT11HRu",
        "colab_type": "text"
      },
      "source": [
        "![matplotlib_figure_axes_axis.png](attachment:matplotlib_figure_axes_axis.png)"
      ]
    },
    {
      "cell_type": "code",
      "metadata": {
        "id": "-fBfevQ51HRv",
        "colab_type": "code",
        "colab": {}
      },
      "source": [
        "# Catplot plot represents share of survived passangers for different embarkment ports\n",
        "sns.catplot?"
      ],
      "execution_count": 0,
      "outputs": []
    },
    {
      "cell_type": "code",
      "metadata": {
        "id": "0b16_RL61HRx",
        "colab_type": "code",
        "colab": {
          "base_uri": "https://localhost:8080/",
          "height": 651
        },
        "outputId": "70ed05bc-0390-479c-c49f-58429c320425"
      },
      "source": [
        "sns.catplot(x = 'Embarked', y = 'Survived', data=titanic_dataframe, height=4, aspect=3, kind = 'point')\n",
        "\n",
        "figure_handle, (axis1, axis2, axis3) = plt.subplots(1, 3, figsize=(15, 5))\n",
        "\n",
        "sns.countplot(x='Embarked', data=titanic_dataframe, ax=axis1)\n",
        "sns.countplot(x='Survived', hue=\"Embarked\", data=titanic_dataframe, order=[1, 0], ax=axis2)\n",
        "\n",
        "# group by embarked, and get the mean for survived passengers for each value in Embarked\n",
        "sns.barplot(x='Embarked', y='Survived', data=titanic_dataframe[[\"Embarked\", \"Survived\"]], order=['S','C','Q'], ax=axis3)"
      ],
      "execution_count": 43,
      "outputs": [
        {
          "output_type": "execute_result",
          "data": {
            "text/plain": [
              "<matplotlib.axes._subplots.AxesSubplot at 0x7fa304a4c2e8>"
            ]
          },
          "metadata": {
            "tags": []
          },
          "execution_count": 43
        },
        {
          "output_type": "display_data",
          "data": {
            "image/png": "[encoded data removed]",
            "text/plain": [
              "<Figure size 864x288 with 1 Axes>"
            ]
          },
          "metadata": {
            "tags": []
          }
        },
        {
          "output_type": "display_data",
          "data": {
            "image/png": "[encoded data removed]",
            "text/plain": [
              "<Figure size 1080x360 with 3 Axes>"
            ]
          },
          "metadata": {
            "tags": []
          }
        }
      ]
    },
    {
      "cell_type": "markdown",
      "metadata": {
        "id": "cnTEgh0c1HR0",
        "colab_type": "text"
      },
      "source": [
        "![1_3hdYEX5eixaV4F3wT5OmBg.png](attachment:1_3hdYEX5eixaV4F3wT5OmBg.png)"
      ]
    },
    {
      "cell_type": "code",
      "metadata": {
        "id": "PHb5wfnx1HR1",
        "colab_type": "code",
        "colab": {}
      },
      "source": [
        "# consider Embarked column in predictions,\n",
        "# and remove \"S\" dummy variable, \n",
        "# and leave \"C\" & \"Q\", since they seem to have a good rate for Survival.\n",
        "\n",
        "# OR, don't create dummy variables for Embarked column, just drop it, \n",
        "# because logically, Embarked doesn't seem to be useful in prediction.\n",
        "\n",
        "embark_dummies_titanic  = pd.get_dummies(titanic_dataframe['Embarked'])\n",
        "embark_dummies_titanic.drop(['S'], axis=1, inplace=True)\n",
        "\n",
        "titanic_dataframe = titanic_dataframe.join(embark_dummies_titanic)\n",
        "\n",
        "titanic_dataframe.drop(['Embarked'], axis=1, inplace=True)"
      ],
      "execution_count": 0,
      "outputs": []
    },
    {
      "cell_type": "code",
      "metadata": {
        "_cell_guid": "b1a9e2e1-1718-4e6a-b037-a2c1eca1c003",
        "id": "sbwNh0zd1HR3",
        "colab_type": "code",
        "colab": {
          "base_uri": "https://localhost:8080/",
          "height": 509
        },
        "outputId": "29455512-95e3-4765-d9a7-cd53916d97a2"
      },
      "source": [
        "# Examine fare variable\n",
        "\n",
        "# convert from float to int\n",
        "titanic_dataframe['Fare'] = titanic_dataframe['Fare'].astype(int)\n",
        "\n",
        "# get fare for survived & didn't survive passengers \n",
        "fare_not_survived = titanic_dataframe[\"Fare\"][titanic_dataframe[\"Survived\"] == 0]\n",
        "fare_survived = titanic_dataframe[\"Fare\"][titanic_dataframe[\"Survived\"] == 1]\n",
        "\n",
        "# get average and std for fare of survived/not survived passengers\n",
        "avgerage_fare = DataFrame([fare_not_survived.mean(), fare_survived.mean()])\n",
        "std_fare = DataFrame([fare_not_survived.std(), fare_survived.std()])\n",
        "\n",
        "# plot\n",
        "titanic_dataframe['Fare'].plot(kind='hist', figsize=(15, 3), bins=100, xlim=(0, 50))\n",
        "\n",
        "std_fare.index.names = [\"Survived\"]\n",
        "avgerage_fare.index.names = [\"Survived\"]\n",
        "avgerage_fare.plot(yerr=std_fare, kind='bar', legend=False)"
      ],
      "execution_count": 45,
      "outputs": [
        {
          "output_type": "execute_result",
          "data": {
            "text/plain": [
              "<matplotlib.axes._subplots.AxesSubplot at 0x7fa3047e9c50>"
            ]
          },
          "metadata": {
            "tags": []
          },
          "execution_count": 45
        },
        {
          "output_type": "display_data",
          "data": {
            "image/png": "[encoded data removed]",
            "text/plain": [
              "<Figure size 1080x216 with 1 Axes>"
            ]
          },
          "metadata": {
            "tags": []
          }
        },
        {
          "output_type": "display_data",
          "data": {
            "image/png": "[encoded data removed]",
            "text/plain": [
              "<Figure size 432x288 with 1 Axes>"
            ]
          },
          "metadata": {
            "tags": []
          }
        }
      ]
    },
    {
      "cell_type": "code",
      "metadata": {
        "id": "67WAGZ581HR7",
        "colab_type": "code",
        "colab": {}
      },
      "source": [
        "# Do the same thing for pclass variable with no confidence interval visible\n",
        "print(titanic_dataframe[[\"Pclass\", \"Survived\"]].groupby(['Pclass'], as_index=True))\n",
        "# adjust the figure size\n",
        "plt.figure(figsize=[10,5])\n",
        "sns.barplot(x='Pclass', y='Survived', data=titanic_dataframe[[\"Pclass\", \"Survived\"]], order=[1, 2, 3])"
      ],
      "execution_count": 0,
      "outputs": []
    },
    {
      "cell_type": "code",
      "metadata": {
        "_cell_guid": "22ab0b38-6285-4d65-bb3e-dc923caed94b",
        "id": "uz6kw9O-1HR9",
        "colab_type": "code",
        "colab": {}
      },
      "source": [
        "# Age \n",
        "fig, (axis1, axis2) = plt.subplots(1, 2, figsize=(15, 4))\n",
        "axis1.set_title('Original Age values - Titanic')\n",
        "axis2.set_title('New Age values - Titanic')\n",
        "\n",
        "# get average, std, and number of NaN values in titanic_df\n",
        "average_age_titanic = titanic_dataframe[\"Age\"].mean()\n",
        "std_age_titanic = titanic_dataframe[\"Age\"].std()\n",
        "count_nan_age_titanic = titanic_dataframe[\"Age\"].isnull().sum()\n",
        "\n",
        "# generate random numbers between (mean - std) & (mean + std)\n",
        "random_ages = np.random.randint(average_age_titanic - std_age_titanic, \n",
        "                                average_age_titanic + std_age_titanic, \n",
        "                                size=count_nan_age_titanic)\n",
        "\n",
        "# plot original Age values\n",
        "# NOTE: drop all null values, and convert to int\n",
        "titanic_dataframe['Age'].dropna().astype(int).hist(bins=70, ax=axis1)\n",
        "\n",
        "# fill NaN values in Age column with random values generated\n",
        "titanic_dataframe.loc[np.isnan(titanic_dataframe[\"Age\"]), \"Age\"] = random_ages\n",
        "\n",
        "# convert from float to int\n",
        "titanic_dataframe['Age'] = titanic_dataframe['Age'].astype(int)\n",
        "\n",
        "# plot new Age Values\n",
        "titanic_dataframe['Age'].hist(bins=70, ax=axis2)"
      ],
      "execution_count": 0,
      "outputs": []
    },
    {
      "cell_type": "code",
      "metadata": {
        "_cell_guid": "952009ab-555c-46f8-b419-182f2de39ca0",
        "id": "2fo5nWSK1HR_",
        "colab_type": "code",
        "colab": {}
      },
      "source": [
        "# .... continue with plotting of Age column\n",
        "\n",
        "# peaks for survived/not survived passengers by their age\n",
        "facet = sns.FacetGrid(titanic_dataframe, hue=\"Survived\", aspect=3)\n",
        "facet.map(sns.kdeplot, 'Age', shade=True)\n",
        "facet.set(xlim=(0, titanic_dataframe['Age'].max()))\n",
        "facet.add_legend()\n",
        "\n",
        "# average survived passengers by age\n",
        "figure_handle, axis1 = plt.subplots(1, 1, figsize=(18, 4))\n",
        "average_age = titanic_dataframe[[\"Age\", \"Survived\"]].groupby(['Age'], as_index=False).mean()\n",
        "sns.barplot(x='Age', y='Survived', data=average_age)"
      ],
      "execution_count": 0,
      "outputs": []
    },
    {
      "cell_type": "code",
      "metadata": {
        "_cell_guid": "a89c93bb-e45b-44ce-8dee-430f584f4ed4",
        "id": "cROW4wf21HSA",
        "colab_type": "code",
        "colab": {}
      },
      "source": [
        "# Instead of having two columns Parch & SibSp, \n",
        "# we can have only one column that represents if a passenger had any family member aboard or not,\n",
        "# Meaning, if having any family member (whether parent, brother, ...etc) increases chances of Survival or not.\n",
        "titanic_dataframe['Family'] = titanic_dataframe[\"Parch\"] + titanic_dataframe[\"SibSp\"]\n",
        "titanic_dataframe.loc[titanic_dataframe['Family'] > 0, 'Family'] = 1\n",
        "titanic_dataframe.loc[titanic_dataframe['Family'] == 0, 'Family'] = 0\n",
        "\n",
        "# drop Parch & SibSp\n",
        "titanic_dataframe.drop(['SibSp','Parch'], axis=1, inplace=True)"
      ],
      "execution_count": 0,
      "outputs": []
    },
    {
      "cell_type": "code",
      "metadata": {
        "id": "Fc-1CkBP1HSB",
        "colab_type": "code",
        "colab": {}
      },
      "source": [
        "# plot Family\n",
        "figure_handle, (axis1, axis2) = plt.subplots(1, 2, sharex=True, figsize=(10, 5))\n",
        "\n",
        "sns.countplot(x='Family', data=titanic_dataframe, order=[1, 0], ax=axis1)\n",
        "axis1.set_xticklabels([\"With Family\", \"Alone\"], rotation=0)\n",
        "\n",
        "# average of survived for those who had/didn't have any family member\n",
        "sns.barplot(x='Family', y='Survived', data=titanic_dataframe[[\"Family\", \"Survived\"]], order=[1, 0], ax=axis2)"
      ],
      "execution_count": 0,
      "outputs": []
    },
    {
      "cell_type": "code",
      "metadata": {
        "_cell_guid": "23c2f140-1dc0-48cd-a6e1-9786510b2606",
        "id": "twSaOf9e1HSC",
        "colab_type": "code",
        "colab": {}
      },
      "source": [
        "# Sex variable\n",
        "\n",
        "# As we see, children(age < ~16) on aboard seem to have a high chances for Survival.\n",
        "# So, we can classify passengers as males, females, and child\n",
        "def get_person(passenger):\n",
        "    age, sex = passenger\n",
        "    return 'child' if age < 16 else sex\n",
        "\n",
        "titanic_dataframe['Person'] = titanic_dataframe[['Age','Sex']].apply(get_person, axis=1)\n",
        "\n",
        "# No need to use Sex column since we created Person column\n",
        "titanic_dataframe.drop(['Sex'], axis=1, inplace=True)\n",
        "\n",
        "# create dummy variables for Person column, & drop Male as it has the lowest average of survived passengers\n",
        "person_dummies_titanic = pd.get_dummies(titanic_dataframe['Person'])\n",
        "person_dummies_titanic.columns = ['Child', 'Female', 'Male']\n",
        "person_dummies_titanic.drop(['Male'], axis=1, inplace=True)\n",
        "\n",
        "titanic_dataframe = titanic_dataframe.join(person_dummies_titanic)\n",
        "\n",
        "figure_handle, (axis1, axis2) = plt.subplots(1, 2, figsize=(10, 5))\n",
        "\n",
        "sns.countplot(x='Person', data=titanic_dataframe, ax=axis1)\n",
        "\n",
        "# average of survived for each Person(male, female, or child)\n",
        "sns.barplot(x='Person', y='Survived', data=titanic_dataframe[[\"Person\", \"Survived\"]], \n",
        "            ax=axis2, order=['male', 'female', 'child'])\n",
        "\n",
        "# we don't need person variable after introduction of the corresponding dummy variables\n",
        "titanic_dataframe.drop(['Person'], axis=1, inplace=True)"
      ],
      "execution_count": 0,
      "outputs": []
    },
    {
      "cell_type": "code",
      "metadata": {
        "id": "_1Dh-wwC1HSD",
        "colab_type": "code",
        "colab": {}
      },
      "source": [
        "# Pclass\n",
        "sns.catplot('Pclass', 'Survived', order=[1, 2, 3], data=titanic_dataframe, height=5, kind = 'point')\n",
        "\n",
        "# The goal is to create dummy variables for class and joint it to the initial dataframe\n",
        "# create dummy variables for Pclass column, & drop 3rd class as it has the lowest average of survived passengers\n",
        "pclass_dummies_titanic  = pd.get_dummies(titanic_dataframe['Pclass'])\n",
        "pclass_dummies_titanic.columns = ['Class_1', 'Class_2', 'Class_3']\n",
        "pclass_dummies_titanic.drop(['Class_3'], axis=1, inplace=True)\n",
        "\n",
        "titanic_dataframe = titanic_dataframe.join(pclass_dummies_titanic)\n"
      ],
      "execution_count": 0,
      "outputs": []
    },
    {
      "cell_type": "markdown",
      "metadata": {
        "id": "G7r8YoTP1HSF",
        "colab_type": "text"
      },
      "source": [
        "1. Is distribution of age similar for men and women? Check it with QQ-plot.\n",
        "2. Compare Age distribution for all three classes."
      ]
    },
    {
      "cell_type": "markdown",
      "metadata": {
        "id": "3NneKI741HSF",
        "colab_type": "text"
      },
      "source": [
        "## It's time for Machine learning!"
      ]
    },
    {
      "cell_type": "markdown",
      "metadata": {
        "id": "fcqgXqhb1HSG",
        "colab_type": "text"
      },
      "source": [
        "![MLearning](https://media.giphy.com/media/BdrSy2gqURFEk/giphy.gif)"
      ]
    },
    {
      "cell_type": "code",
      "metadata": {
        "id": "YzP1SeZE1HSH",
        "colab_type": "code",
        "colab": {}
      },
      "source": [
        "# machine learning tools: various methods from scikit-learn\n",
        "from sklearn.linear_model import LogisticRegression\n",
        "from sklearn.svm import SVC, LinearSVC\n",
        "from sklearn.ensemble import RandomForestClassifier\n",
        "from sklearn.neighbors import KNeighborsClassifier\n",
        "from sklearn.model_selection import train_test_split\n",
        "from sklearn.metrics import accuracy_score"
      ],
      "execution_count": 0,
      "outputs": []
    },
    {
      "cell_type": "code",
      "metadata": {
        "id": "Rh-U5khm1HSI",
        "colab_type": "code",
        "colab": {}
      },
      "source": [
        "train, test = train_test_split(titanic_dataframe, train_size=0.5, test_size=0.5)"
      ],
      "execution_count": 0,
      "outputs": []
    },
    {
      "cell_type": "code",
      "metadata": {
        "id": "Iqbovm2T1HSJ",
        "colab_type": "code",
        "colab": {}
      },
      "source": [
        "train_x = train.drop(['Survived'], axis=1)\n",
        "train_y = train['Survived']\n",
        "test_x = test.drop(['Survived'], axis=1)\n",
        "test_y = test['Survived']"
      ],
      "execution_count": 0,
      "outputs": []
    },
    {
      "cell_type": "code",
      "metadata": {
        "id": "d0sSQuoq1HSK",
        "colab_type": "code",
        "colab": {}
      },
      "source": [
        "# Logistic Regression\n",
        "\n",
        "logistic_regression_model = LogisticRegression(solver='liblinear')\n",
        "logistic_regression_model.fit(train_x, train_y)\n",
        "train_prediction = logistic_regression_model.predict(train_x)\n",
        "test_prediction = logistic_regression_model.predict(test_x)\n",
        "train_accuracy = accuracy_score(train_y, train_prediction)\n",
        "test_accuracy = accuracy_score(test_y, test_prediction)\n",
        "\n",
        "print('Train Accuracy:', train_accuracy)\n",
        "print('Test Accuracy:', test_accuracy)"
      ],
      "execution_count": 0,
      "outputs": []
    },
    {
      "cell_type": "code",
      "metadata": {
        "id": "xq15e1Gn1HSM",
        "colab_type": "code",
        "colab": {}
      },
      "source": [
        "# Support Vector Machines\n",
        "\n",
        "svm_model = SVC(C=1.0, gamma=0.5)\n",
        "svm_model.fit(train_x, train_y)\n",
        "train_prediction = svm_model.predict(train_x)\n",
        "test_prediction = svm_model.predict(test_x)\n",
        "train_accuracy = accuracy_score(train_y, train_prediction)\n",
        "test_accuracy = accuracy_score(test_y, test_prediction)\n",
        "\n",
        "print('Train Accuracy:', train_accuracy)\n",
        "print('Test Accuracy:', test_accuracy)"
      ],
      "execution_count": 0,
      "outputs": []
    },
    {
      "cell_type": "code",
      "metadata": {
        "id": "IqV8xQ8H1HSO",
        "colab_type": "code",
        "colab": {}
      },
      "source": [
        "# Random Forests\n",
        "\n",
        "random_forest_model = RandomForestClassifier(n_estimators=10)\n",
        "random_forest_model.fit(train_x, train_y)\n",
        "train_prediction = random_forest_model.predict(train_x)\n",
        "test_prediction = random_forest_model.predict(test_x)\n",
        "train_accuracy = accuracy_score(train_y, train_prediction)\n",
        "test_accuracy = accuracy_score(test_y, test_prediction)\n",
        "\n",
        "print('Train Accuracy:', train_accuracy)\n",
        "print('Test Accuracy:', test_accuracy)"
      ],
      "execution_count": 0,
      "outputs": []
    },
    {
      "cell_type": "code",
      "metadata": {
        "id": "rDpUL-fB1HSP",
        "colab_type": "code",
        "colab": {}
      },
      "source": [
        "# K nearest neighbours \n",
        "\n",
        "knn_model = KNeighborsClassifier(n_neighbors=1)\n",
        "knn_model.fit(train_x, train_y)\n",
        "train_prediction = knn_model.predict(train_x)\n",
        "test_prediction = knn_model.predict(test_x)\n",
        "train_accuracy = accuracy_score(train_y, train_prediction)\n",
        "test_accuracy = accuracy_score(test_y, test_prediction)\n",
        "\n",
        "print('Train Accuracy:', train_accuracy)\n",
        "print('Test Accuracy:', test_accuracy)"
      ],
      "execution_count": 0,
      "outputs": []
    },
    {
      "cell_type": "markdown",
      "metadata": {
        "id": "kDzDBQld1HSR",
        "colab_type": "text"
      },
      "source": [
        "##### What is the most effective pair of features which gives the best test accuracy?"
      ]
    },
    {
      "cell_type": "markdown",
      "metadata": {
        "id": "YALYRb9d1HSS",
        "colab_type": "text"
      },
      "source": [
        ""
      ]
    }
  ]
}